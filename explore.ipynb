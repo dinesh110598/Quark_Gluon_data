{
 "cells": [
  {
   "cell_type": "code",
   "execution_count": 1,
   "metadata": {},
   "outputs": [],
   "source": [
    "import numpy as np\n",
    "import h5py as h5\n",
    "import matplotlib.pyplot as plt\n",
    "\n",
    "import torch\n",
    "import torch_geometric\n",
    "import torch.nn as nn\n",
    "import torch.nn.functional as F\n",
    "from torch_geometric import nn as gnn\n",
    "\n",
    "from graph_vae import GraphVAE\n",
    "from train import train_loop\n",
    "from data_load import *"
   ]
  },
  {
   "cell_type": "code",
   "execution_count": 2,
   "metadata": {},
   "outputs": [],
   "source": [
    "net = GraphVAE(3, 32, 8)"
   ]
  },
  {
   "cell_type": "code",
   "execution_count": 3,
   "metadata": {},
   "outputs": [
    {
     "ename": "ValueError",
     "evalue": "too many values to unpack (expected 2)",
     "output_type": "error",
     "traceback": [
      "\u001b[0;31m---------------------------------------------------------------------------\u001b[0m",
      "\u001b[0;31mValueError\u001b[0m                                Traceback (most recent call last)",
      "\u001b[1;32m/home/dinesh/Documents/Projects/Quark_Gluon_data/explore.ipynb Cell 3\u001b[0m line \u001b[0;36m1\n\u001b[0;32m----> <a href='vscode-notebook-cell:/home/dinesh/Documents/Projects/Quark_Gluon_data/explore.ipynb#W2sZmlsZQ%3D%3D?line=0'>1</a>\u001b[0m train_loop(net, \u001b[39m1\u001b[39m, \u001b[39m32\u001b[39m)\n",
      "File \u001b[0;32m~/Documents/Projects/Quark_Gluon_data/train.py:37\u001b[0m, in \u001b[0;36mtrain_loop\u001b[0;34m(net, epochs, batch_size, lr)\u001b[0m\n\u001b[1;32m     35\u001b[0m \u001b[39mfor\u001b[39;00m (x,) \u001b[39min\u001b[39;00m data_loader:\n\u001b[1;32m     36\u001b[0m     opt\u001b[39m.\u001b[39mzero_grad()\n\u001b[0;32m---> 37\u001b[0m     loss \u001b[39m=\u001b[39m loss_fn(net, x)\n\u001b[1;32m     38\u001b[0m     \u001b[39mwith\u001b[39;00m torch\u001b[39m.\u001b[39mno_grad():\n\u001b[1;32m     39\u001b[0m         \u001b[39mprint\u001b[39m(loss)\n",
      "File \u001b[0;32m~/Documents/Projects/Quark_Gluon_data/train.py:21\u001b[0m, in \u001b[0;36mloss_fn\u001b[0;34m(net, x)\u001b[0m\n\u001b[1;32m     11\u001b[0m \u001b[39m\u001b[39m\u001b[39m\"\"\"\u001b[39;00m\n\u001b[1;32m     12\u001b[0m \u001b[39mLoss function with simple mean-square distance between\u001b[39;00m\n\u001b[1;32m     13\u001b[0m \u001b[39mautoencoder inputs and outputs, along with spatial graph\u001b[39;00m\n\u001b[1;32m     14\u001b[0m \u001b[39mpooling losses and KL-divergence of the latent random\u001b[39;00m\n\u001b[1;32m     15\u001b[0m \u001b[39mvariables wrt N(0,1)\u001b[39;00m\n\u001b[1;32m     16\u001b[0m \u001b[39m\"\"\"\u001b[39;00m\n\u001b[1;32m     17\u001b[0m \u001b[39m# What terms to include ?\u001b[39;00m\n\u001b[1;32m     18\u001b[0m \u001b[39m# x.shape = (batch, 125, 125, 3)\u001b[39;00m\n\u001b[1;32m     19\u001b[0m \n\u001b[1;32m     20\u001b[0m \u001b[39m# Graph nodes and edges\u001b[39;00m\n\u001b[0;32m---> 21\u001b[0m X, A \u001b[39m=\u001b[39m preprocess(x)\n\u001b[1;32m     22\u001b[0m \u001b[39m# Reconstructed nodes and edges\u001b[39;00m\n\u001b[1;32m     23\u001b[0m Y, A2, mu, logvar, L1, L2 \u001b[39m=\u001b[39m net(X, A)\n",
      "File \u001b[0;32m~/Documents/Projects/Quark_Gluon_data/data_load.py:79\u001b[0m, in \u001b[0;36mpreprocess\u001b[0;34m(x)\u001b[0m\n\u001b[1;32m     78\u001b[0m \u001b[39mdef\u001b[39;00m \u001b[39mpreprocess\u001b[39m(x):\n\u001b[0;32m---> 79\u001b[0m     graphs \u001b[39m=\u001b[39m graph_list(x)\n\u001b[1;32m     80\u001b[0m     counts \u001b[39m=\u001b[39m node_counter(graphs)\n\u001b[1;32m     81\u001b[0m     lengs \u001b[39m=\u001b[39m torch\u001b[39m.\u001b[39mLongTensor(np\u001b[39m.\u001b[39mhstack(assigner(counts)))\n",
      "File \u001b[0;32m~/Documents/Projects/Quark_Gluon_data/data_load.py:20\u001b[0m, in \u001b[0;36mgraph_list\u001b[0;34m(X)\u001b[0m\n\u001b[1;32m     18\u001b[0m \u001b[39mfor\u001b[39;00m i \u001b[39min\u001b[39;00m \u001b[39mrange\u001b[39m(X\u001b[39m.\u001b[39mshape[\u001b[39m0\u001b[39m]):\n\u001b[1;32m     19\u001b[0m     ecal \u001b[39m=\u001b[39m X[i, :, :, \u001b[39m1\u001b[39m]\n\u001b[0;32m---> 20\u001b[0m     xhit, yhit \u001b[39m=\u001b[39m torch\u001b[39m.\u001b[39mnonzero(ecal, as_tuple\u001b[39m=\u001b[39m\u001b[39mTrue\u001b[39;00m)\n\u001b[1;32m     21\u001b[0m     pos \u001b[39m=\u001b[39m torch\u001b[39m.\u001b[39mstack((xhit\u001b[39m.\u001b[39mfloat(), yhit\u001b[39m.\u001b[39mfloat()), dim\u001b[39m=\u001b[39m\u001b[39m1\u001b[39m)\n\u001b[1;32m     23\u001b[0m     E \u001b[39m=\u001b[39m ecal[xhit, yhit]\u001b[39m*\u001b[39m\u001b[39m50\u001b[39m\n",
      "\u001b[0;31mValueError\u001b[0m: too many values to unpack (expected 2)"
     ]
    }
   ],
   "source": [
    "train_loop(net, 1, 32)"
   ]
  },
  {
   "cell_type": "code",
   "execution_count": 4,
   "metadata": {},
   "outputs": [],
   "source": [
    "# f = h5.File(\"quark-gluon_data-set_n139306.hdf5\")\n",
    "# x, m0, pt, y = (torch.from_numpy(f['X_jets'][:5000]), torch.from_numpy(f['m0'][:5000]), \n",
    "#                 torch.from_numpy(f['pt'][:5000]), torch.from_numpy(f['y'][:5000]))\n",
    "# f.close()"
   ]
  },
  {
   "cell_type": "code",
   "execution_count": 7,
   "metadata": {},
   "outputs": [],
   "source": [
    "from torch_geometric.utils import to_dense_batch, to_dense_adj"
   ]
  },
  {
   "cell_type": "code",
   "execution_count": 8,
   "metadata": {},
   "outputs": [],
   "source": [
    "X, mask = to_dense_batch(G, lengs, fill_value=0, max_num_nodes=1000)\n",
    "A = to_dense_adj(E, lengs, max_num_nodes=1000) # (batch, 1000, 1000)\n"
   ]
  },
  {
   "cell_type": "code",
   "execution_count": 9,
   "metadata": {},
   "outputs": [
    {
     "data": {
      "text/plain": [
       "(torch.Size([2, 1000, 3]), torch.Size([2, 1000, 1000]))"
      ]
     },
     "execution_count": 9,
     "metadata": {},
     "output_type": "execute_result"
    }
   ],
   "source": [
    "X = X\n",
    "A = A\n",
    "X.shape, A.shape"
   ]
  },
  {
   "cell_type": "code",
   "execution_count": 12,
   "metadata": {},
   "outputs": [
    {
     "data": {
      "text/plain": [
       "GraphVAE(\n",
       "  (sage): ModuleList(\n",
       "    (0): DenseSAGEConv(3, 16)\n",
       "    (1): DenseSAGEConv(16, 16)\n",
       "    (2): DenseSAGEConv(16, 3)\n",
       "  )\n",
       "  (drop): ModuleList(\n",
       "    (0): Dropout(p=0.5, inplace=False)\n",
       "    (1): Dropout(p=0.4, inplace=False)\n",
       "    (2): Dropout(p=0.3, inplace=False)\n",
       "  )\n",
       "  (batch_norm): ModuleList(\n",
       "    (0): BatchNorm1d(1000, eps=1e-05, momentum=0.1, affine=True, track_running_stats=True)\n",
       "    (1): BatchNorm1d(500, eps=1e-05, momentum=0.1, affine=True, track_running_stats=True)\n",
       "    (2): BatchNorm1d(250, eps=1e-05, momentum=0.1, affine=True, track_running_stats=True)\n",
       "  )\n",
       "  (pool): ModuleList(\n",
       "    (0): MinCut_Pool(\n",
       "      (linear): Linear(in_features=16, out_features=500, bias=True)\n",
       "    )\n",
       "    (1): MinCut_Pool(\n",
       "      (linear): Linear(in_features=16, out_features=250, bias=True)\n",
       "    )\n",
       "  )\n",
       "  (tr_mu): Linear(in_features=3, out_features=16, bias=True)\n",
       "  (tr_var): Linear(in_features=3, out_features=16, bias=True)\n",
       "  (tr_rev): Linear(in_features=16, out_features=3, bias=True)\n",
       "  (revsage): ModuleList(\n",
       "    (0): DenseSAGEConv(16, 3)\n",
       "    (1): DenseSAGEConv(16, 16)\n",
       "    (2): DenseSAGEConv(3, 16)\n",
       "  )\n",
       ")"
      ]
     },
     "execution_count": 12,
     "metadata": {},
     "output_type": "execute_result"
    }
   ],
   "source": [
    "net = GraphVAE(3, 16, 3)\n",
    "net"
   ]
  },
  {
   "cell_type": "code",
   "execution_count": 42,
   "metadata": {},
   "outputs": [],
   "source": [
    "Z, A, mu, logvar, L1, L2 = net(X, A)"
   ]
  },
  {
   "cell_type": "code",
   "execution_count": 43,
   "metadata": {},
   "outputs": [
    {
     "data": {
      "text/plain": [
       "(torch.Size([2, 1000, 3]), torch.Size([2, 1000, 1000]))"
      ]
     },
     "execution_count": 43,
     "metadata": {},
     "output_type": "execute_result"
    }
   ],
   "source": [
    "Z.shape, A.shape"
   ]
  },
  {
   "cell_type": "code",
   "execution_count": null,
   "metadata": {},
   "outputs": [],
   "source": []
  }
 ],
 "metadata": {
  "kernelspec": {
   "display_name": "torch-geo",
   "language": "python",
   "name": "python3"
  },
  "language_info": {
   "codemirror_mode": {
    "name": "ipython",
    "version": 3
   },
   "file_extension": ".py",
   "mimetype": "text/x-python",
   "name": "python",
   "nbconvert_exporter": "python",
   "pygments_lexer": "ipython3",
   "version": "3.11.5"
  },
  "orig_nbformat": 4
 },
 "nbformat": 4,
 "nbformat_minor": 2
}
