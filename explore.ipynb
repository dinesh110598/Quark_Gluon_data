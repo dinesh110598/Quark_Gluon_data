{
 "cells": [
  {
   "cell_type": "code",
   "execution_count": 1,
   "metadata": {},
   "outputs": [],
   "source": [
    "import numpy as np\n",
    "import h5py as h5\n",
    "import matplotlib.pyplot as plt\n",
    "\n",
    "import torch\n",
    "import torch_geometric\n",
    "import torch.nn as nn\n",
    "import torch.nn.functional as F\n",
    "from torch_geometric import nn as gnn\n",
    "\n",
    "from graph_vae import GraphVAE\n",
    "from train import train_loop, loss_infer\n",
    "from data_load import *"
   ]
  },
  {
   "cell_type": "markdown",
   "metadata": {},
   "source": [
    "## Model Definition and training"
   ]
  },
  {
   "cell_type": "code",
   "execution_count": 3,
   "metadata": {},
   "outputs": [],
   "source": [
    "net = GraphVAE(3, 32, 8)"
   ]
  },
  {
   "cell_type": "code",
   "execution_count": 4,
   "metadata": {},
   "outputs": [],
   "source": [
    "train_loop(net, 1, 100)"
   ]
  },
  {
   "cell_type": "code",
   "execution_count": 4,
   "metadata": {},
   "outputs": [],
   "source": [
    "torch.save(net.state_dict(), \"Saves/L_50k.pth\")"
   ]
  },
  {
   "cell_type": "markdown",
   "metadata": {},
   "source": [
    "## Inference and tests"
   ]
  },
  {
   "cell_type": "code",
   "execution_count": 2,
   "metadata": {},
   "outputs": [],
   "source": [
    "from data_load import get_train_dataset"
   ]
  },
  {
   "cell_type": "code",
   "execution_count": 3,
   "metadata": {},
   "outputs": [
    {
     "data": {
      "text/plain": [
       "<All keys matched successfully>"
      ]
     },
     "execution_count": 3,
     "metadata": {},
     "output_type": "execute_result"
    }
   ],
   "source": [
    "net = GraphVAE(3, 32, 8)\n",
    "net.load_state_dict(torch.load(\"Saves/L_50k.pth\"))"
   ]
  },
  {
   "cell_type": "code",
   "execution_count": 4,
   "metadata": {},
   "outputs": [],
   "source": [
    "dataset = get_train_dataset(10_000)\n",
    "dataloader = torch.utils.data.DataLoader(dataset, 200, True)"
   ]
  },
  {
   "cell_type": "code",
   "execution_count": 5,
   "metadata": {},
   "outputs": [
    {
     "name": "stdout",
     "output_type": "stream",
     "text": [
      "tensor([[0.0000, 0.0000, 0.0000,  ..., 0.0027, 0.0020, 0.0013],\n",
      "        [0.0000, 0.0000, 0.0000,  ..., 0.0000, 0.0000, 0.0000],\n",
      "        [0.0000, 0.0000, 0.0000,  ..., 0.0000, 0.0000, 0.0000],\n",
      "        ...,\n",
      "        [0.0000, 0.0000, 0.0000,  ..., 0.0000, 0.0000, 0.0000],\n",
      "        [0.0000, 0.0000, 0.0000,  ..., 0.0000, 0.0000, 0.0000],\n",
      "        [0.0000, 0.0000, 0.0000,  ..., 0.0000, 0.0000, 0.0000]])\n"
     ]
    }
   ],
   "source": [
    "for (x,) in dataloader:\n",
    "    img1 = x[:, :, :, 1]\n",
    "    with torch.no_grad():\n",
    "        L, img2, counts = loss_infer(net, x)\n",
    "    break"
   ]
  },
  {
   "cell_type": "code",
   "execution_count": 8,
   "metadata": {},
   "outputs": [
    {
     "data": {
      "text/plain": [
       "[222,\n",
       " 322,\n",
       " 334,\n",
       " 138,\n",
       " 389,\n",
       " 278,\n",
       " 181,\n",
       " 92,\n",
       " 434,\n",
       " 308,\n",
       " 332,\n",
       " 176,\n",
       " 269,\n",
       " 279,\n",
       " 179,\n",
       " 223,\n",
       " 191,\n",
       " 392,\n",
       " 168,\n",
       " 337,\n",
       " 194,\n",
       " 262,\n",
       " 188,\n",
       " 168,\n",
       " 275,\n",
       " 253,\n",
       " 258,\n",
       " 345,\n",
       " 166,\n",
       " 747,\n",
       " 206,\n",
       " 437,\n",
       " 297,\n",
       " 276,\n",
       " 378,\n",
       " 283,\n",
       " 167,\n",
       " 458,\n",
       " 178,\n",
       " 169,\n",
       " 399,\n",
       " 474,\n",
       " 721,\n",
       " 144,\n",
       " 48,\n",
       " 457,\n",
       " 36,\n",
       " 280,\n",
       " 118,\n",
       " 221,\n",
       " 205,\n",
       " 309,\n",
       " 327,\n",
       " 129,\n",
       " 157,\n",
       " 178,\n",
       " 194,\n",
       " 232,\n",
       " 163,\n",
       " 177,\n",
       " 179,\n",
       " 286,\n",
       " 125,\n",
       " 262,\n",
       " 618,\n",
       " 196,\n",
       " 129,\n",
       " 347,\n",
       " 149,\n",
       " 139,\n",
       " 188,\n",
       " 87,\n",
       " 187,\n",
       " 280,\n",
       " 338,\n",
       " 438,\n",
       " 301,\n",
       " 342,\n",
       " 154,\n",
       " 93,\n",
       " 191,\n",
       " 117,\n",
       " 240,\n",
       " 332,\n",
       " 205,\n",
       " 350,\n",
       " 130,\n",
       " 504,\n",
       " 255,\n",
       " 225,\n",
       " 363,\n",
       " 179,\n",
       " 279,\n",
       " 302,\n",
       " 296,\n",
       " 416,\n",
       " 461,\n",
       " 197,\n",
       " 351,\n",
       " 443,\n",
       " 294,\n",
       " 172,\n",
       " 382,\n",
       " 196,\n",
       " 257,\n",
       " 371,\n",
       " 248,\n",
       " 296,\n",
       " 402,\n",
       " 277,\n",
       " 270,\n",
       " 447,\n",
       " 398,\n",
       " 193,\n",
       " 216,\n",
       " 261,\n",
       " 505,\n",
       " 67,\n",
       " 340,\n",
       " 179,\n",
       " 278,\n",
       " 363,\n",
       " 613,\n",
       " 196,\n",
       " 236,\n",
       " 289,\n",
       " 292,\n",
       " 218,\n",
       " 275,\n",
       " 334,\n",
       " 510,\n",
       " 300,\n",
       " 345,\n",
       " 145,\n",
       " 168,\n",
       " 347,\n",
       " 292,\n",
       " 141,\n",
       " 118,\n",
       " 151,\n",
       " 237,\n",
       " 398,\n",
       " 192,\n",
       " 418,\n",
       " 171,\n",
       " 256,\n",
       " 220,\n",
       " 485,\n",
       " 298,\n",
       " 325,\n",
       " 167,\n",
       " 297,\n",
       " 266,\n",
       " 130,\n",
       " 350,\n",
       " 217,\n",
       " 314,\n",
       " 132,\n",
       " 547,\n",
       " 75,\n",
       " 138,\n",
       " 259,\n",
       " 133,\n",
       " 464,\n",
       " 175,\n",
       " 163,\n",
       " 245,\n",
       " 273,\n",
       " 442,\n",
       " 150,\n",
       " 345,\n",
       " 285,\n",
       " 40,\n",
       " 443,\n",
       " 113,\n",
       " 365,\n",
       " 234,\n",
       " 169,\n",
       " 329,\n",
       " 232,\n",
       " 133,\n",
       " 204,\n",
       " 512,\n",
       " 325,\n",
       " 134,\n",
       " 381,\n",
       " 143,\n",
       " 255,\n",
       " 182,\n",
       " 328,\n",
       " 317,\n",
       " 145,\n",
       " 281,\n",
       " 370,\n",
       " 359,\n",
       " 126,\n",
       " 224,\n",
       " 296,\n",
       " 195,\n",
       " 138]"
      ]
     },
     "execution_count": 8,
     "metadata": {},
     "output_type": "execute_result"
    }
   ],
   "source": [
    "counts"
   ]
  },
  {
   "cell_type": "code",
   "execution_count": 8,
   "metadata": {},
   "outputs": [
    {
     "data": {
      "text/plain": [
       "tensor(0.)"
      ]
     },
     "execution_count": 8,
     "metadata": {},
     "output_type": "execute_result"
    }
   ],
   "source": [
    "img2[0].min()"
   ]
  },
  {
   "cell_type": "code",
   "execution_count": 9,
   "metadata": {},
   "outputs": [
    {
     "data": {
      "image/png": "[encoded data removed]",
      "text/plain": [
       "<Figure size 640x480 with 2 Axes>"
      ]
     },
     "metadata": {},
     "output_type": "display_data"
    }
   ],
   "source": [
    "fig, ax = plt.subplots(1, 2)\n",
    "ax[0].imshow(img1[0]*(256/5))\n",
    "ax[1].imshow(img2[0]*(256/5))\n",
    "plt.show()"
   ]
  },
  {
   "cell_type": "code",
   "execution_count": 8,
   "metadata": {},
   "outputs": [],
   "source": [
    "X, mask = to_dense_batch(G, lengs, fill_value=0, max_num_nodes=1000)\n",
    "A = to_dense_adj(E, lengs, max_num_nodes=1000) # (batch, 1000, 1000)\n"
   ]
  },
  {
   "cell_type": "code",
   "execution_count": 9,
   "metadata": {},
   "outputs": [
    {
     "data": {
      "text/plain": [
       "(torch.Size([2, 1000, 3]), torch.Size([2, 1000, 1000]))"
      ]
     },
     "execution_count": 9,
     "metadata": {},
     "output_type": "execute_result"
    }
   ],
   "source": [
    "X = X\n",
    "A = A\n",
    "X.shape, A.shape"
   ]
  },
  {
   "cell_type": "code",
   "execution_count": 12,
   "metadata": {},
   "outputs": [
    {
     "data": {
      "text/plain": [
       "GraphVAE(\n",
       "  (sage): ModuleList(\n",
       "    (0): DenseSAGEConv(3, 16)\n",
       "    (1): DenseSAGEConv(16, 16)\n",
       "    (2): DenseSAGEConv(16, 3)\n",
       "  )\n",
       "  (drop): ModuleList(\n",
       "    (0): Dropout(p=0.5, inplace=False)\n",
       "    (1): Dropout(p=0.4, inplace=False)\n",
       "    (2): Dropout(p=0.3, inplace=False)\n",
       "  )\n",
       "  (batch_norm): ModuleList(\n",
       "    (0): BatchNorm1d(1000, eps=1e-05, momentum=0.1, affine=True, track_running_stats=True)\n",
       "    (1): BatchNorm1d(500, eps=1e-05, momentum=0.1, affine=True, track_running_stats=True)\n",
       "    (2): BatchNorm1d(250, eps=1e-05, momentum=0.1, affine=True, track_running_stats=True)\n",
       "  )\n",
       "  (pool): ModuleList(\n",
       "    (0): MinCut_Pool(\n",
       "      (linear): Linear(in_features=16, out_features=500, bias=True)\n",
       "    )\n",
       "    (1): MinCut_Pool(\n",
       "      (linear): Linear(in_features=16, out_features=250, bias=True)\n",
       "    )\n",
       "  )\n",
       "  (tr_mu): Linear(in_features=3, out_features=16, bias=True)\n",
       "  (tr_var): Linear(in_features=3, out_features=16, bias=True)\n",
       "  (tr_rev): Linear(in_features=16, out_features=3, bias=True)\n",
       "  (revsage): ModuleList(\n",
       "    (0): DenseSAGEConv(16, 3)\n",
       "    (1): DenseSAGEConv(16, 16)\n",
       "    (2): DenseSAGEConv(3, 16)\n",
       "  )\n",
       ")"
      ]
     },
     "execution_count": 12,
     "metadata": {},
     "output_type": "execute_result"
    }
   ],
   "source": [
    "net = GraphVAE(3, 16, 3)\n",
    "net"
   ]
  },
  {
   "cell_type": "code",
   "execution_count": 42,
   "metadata": {},
   "outputs": [],
   "source": [
    "Z, A, mu, logvar, L1, L2 = net(X, A)"
   ]
  },
  {
   "cell_type": "code",
   "execution_count": 43,
   "metadata": {},
   "outputs": [
    {
     "data": {
      "text/plain": [
       "(torch.Size([2, 1000, 3]), torch.Size([2, 1000, 1000]))"
      ]
     },
     "execution_count": 43,
     "metadata": {},
     "output_type": "execute_result"
    }
   ],
   "source": [
    "Z.shape, A.shape"
   ]
  },
  {
   "cell_type": "code",
   "execution_count": null,
   "metadata": {},
   "outputs": [],
   "source": []
  }
 ],
 "metadata": {
  "kernelspec": {
   "display_name": "torch-geo",
   "language": "python",
   "name": "python3"
  },
  "language_info": {
   "codemirror_mode": {
    "name": "ipython",
    "version": 3
   },
   "file_extension": ".py",
   "mimetype": "text/x-python",
   "name": "python",
   "nbconvert_exporter": "python",
   "pygments_lexer": "ipython3",
   "version": "3.11.5"
  },
  "orig_nbformat": 4
 },
 "nbformat": 4,
 "nbformat_minor": 2
}
