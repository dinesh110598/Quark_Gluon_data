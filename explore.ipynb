{
 "cells": [
  {
   "cell_type": "code",
   "execution_count": 1,
   "metadata": {},
   "outputs": [],
   "source": [
    "import numpy as np\n",
    "import h5py as h5\n",
    "import pyarrow as pa\n",
    "import pyarrow.parquet as pq\n",
    "import matplotlib.pyplot as plt\n",
    "\n",
    "import torch\n",
    "import torch_geometric\n",
    "import torch.nn as nn\n",
    "import torch.nn.functional as F\n",
    "from torch_geometric import nn as gnn\n",
    "\n",
    "from graph_vae import GraphVAE\n",
    "from train import train_loop2\n",
    "from data_load import *"
   ]
  },
  {
   "cell_type": "code",
   "execution_count": 2,
   "metadata": {},
   "outputs": [],
   "source": [
    "if torch.cuda.is_available():\n",
    "    device = torch.device(\"cuda:0\")\n",
    "else:\n",
    "    device = torch.device(\"cpu\")"
   ]
  },
  {
   "cell_type": "code",
   "execution_count": 3,
   "metadata": {},
   "outputs": [],
   "source": [
    "dataset = get_train_dataset()\n",
    "data_loader = torch.utils.data.DataLoader(dataset, 2000)"
   ]
  },
  {
   "cell_type": "code",
   "execution_count": 10,
   "metadata": {},
   "outputs": [
    {
     "name": "stdout",
     "output_type": "stream",
     "text": [
      "tensor([[1., 1., 1.,  ..., 0., 0., 0.],\n",
      "        [1., 1., 1.,  ..., 0., 0., 0.],\n",
      "        [1., 1., 1.,  ..., 0., 0., 0.],\n",
      "        ...,\n",
      "        [1., 1., 1.,  ..., 0., 0., 0.],\n",
      "        [1., 1., 1.,  ..., 0., 0., 0.],\n",
      "        [1., 1., 1.,  ..., 0., 0., 0.]])\n"
     ]
    }
   ],
   "source": [
    "for (X, NL, mask) in data_loader:\n",
    "    A = eval_A(NL.int())*mask.unsqueeze(2)\n",
    "    print(torch.sum(A, 2))\n",
    "    break"
   ]
  },
  {
   "cell_type": "code",
   "execution_count": 22,
   "metadata": {},
   "outputs": [
    {
     "data": {
      "text/plain": [
       "tensor(0.1667)"
      ]
     },
     "execution_count": 22,
     "metadata": {},
     "output_type": "execute_result"
    }
   ],
   "source": [
    "(A[0, :, :]*(1 - mask[0].unsqueeze(1))).max()"
   ]
  },
  {
   "cell_type": "markdown",
   "metadata": {},
   "source": [
    "## Model Definition and training"
   ]
  },
  {
   "cell_type": "code",
   "execution_count": 3,
   "metadata": {},
   "outputs": [
    {
     "data": {
      "text/plain": [
       "<All keys matched successfully>"
      ]
     },
     "execution_count": 3,
     "metadata": {},
     "output_type": "execute_result"
    }
   ],
   "source": [
    "net = GraphVAE(400, 3)\n",
    "# net.load_state_dict(torch.load(\"Saves/ecal_ep_60.pth\"))"
   ]
  },
  {
   "cell_type": "code",
   "execution_count": 6,
   "metadata": {},
   "outputs": [
    {
     "name": "stdout",
     "output_type": "stream",
     "text": [
      "Epoch : 1 Loss: 12.66592 E mse: 0.21182 Hit mse: 11.55435 L2: 2.52292\n",
      "Epoch : 2 Loss: 12.57346 E mse: 0.21185 Hit mse: 11.46265 L2: 2.52320\n",
      "Epoch : 3 Loss: 12.58838 E mse: 0.21187 Hit mse: 11.47812 L2: 2.52317\n",
      "Epoch : 4 Loss: 12.54606 E mse: 0.21182 Hit mse: 11.43640 L2: 2.52321\n",
      "Epoch : 5 Loss: 12.55481 E mse: 0.21182 Hit mse: 11.44482 L2: 2.52306\n",
      "Epoch : 6 Loss: 12.51115 E mse: 0.21181 Hit mse: 11.40123 L2: 2.52302\n",
      "Epoch : 7 Loss: 12.49750 E mse: 0.21180 Hit mse: 11.38807 L2: 2.52299\n",
      "Epoch : 8 Loss: 12.53382 E mse: 0.21184 Hit mse: 11.42466 L2: 2.52302\n",
      "Epoch : 9 Loss: 12.47487 E mse: 0.21183 Hit mse: 11.36584 L2: 2.52294\n",
      "Epoch : 10 Loss: 12.48232 E mse: 0.21184 Hit mse: 11.37372 L2: 2.52297\n",
      "Epoch : 11 Loss: 12.45952 E mse: 0.21180 Hit mse: 11.35110 L2: 2.52288\n",
      "Epoch : 12 Loss: 12.42640 E mse: 0.21185 Hit mse: 11.31781 L2: 2.52283\n",
      "Epoch : 13 Loss: 12.44494 E mse: 0.21181 Hit mse: 11.33695 L2: 2.52289\n",
      "Epoch : 14 Loss: 12.44645 E mse: 0.21182 Hit mse: 11.33947 L2: 2.52277\n",
      "Epoch : 15 Loss: 12.38815 E mse: 0.21180 Hit mse: 11.28150 L2: 2.52278\n",
      "Epoch : 16 Loss: 12.37318 E mse: 0.21180 Hit mse: 11.26552 L2: 2.52263\n",
      "Epoch : 17 Loss: 12.36551 E mse: 0.21184 Hit mse: 11.25829 L2: 2.52252\n",
      "Epoch : 18 Loss: 12.40374 E mse: 0.21180 Hit mse: 11.29803 L2: 2.52261\n",
      "Epoch : 19 Loss: 12.33267 E mse: 0.21181 Hit mse: 11.22659 L2: 2.52237\n",
      "Epoch : 20 Loss: 12.35150 E mse: 0.21186 Hit mse: 11.24657 L2: 2.52248\n",
      "Epoch : 21 Loss: 12.31968 E mse: 0.21184 Hit mse: 11.21473 L2: 2.52231\n",
      "Epoch : 22 Loss: 12.27735 E mse: 0.21183 Hit mse: 11.17245 L2: 2.52210\n",
      "Epoch : 23 Loss: 12.27958 E mse: 0.21185 Hit mse: 11.17439 L2: 2.52210\n",
      "Epoch : 24 Loss: 12.29366 E mse: 0.21184 Hit mse: 11.18802 L2: 2.52199\n",
      "Epoch : 25 Loss: 12.27216 E mse: 0.21184 Hit mse: 11.16664 L2: 2.52200\n",
      "Epoch : 26 Loss: 12.29891 E mse: 0.21183 Hit mse: 11.19449 L2: 2.52200\n",
      "Epoch : 27 Loss: 12.30429 E mse: 0.21184 Hit mse: 11.20082 L2: 2.52202\n",
      "Epoch : 28 Loss: 12.21984 E mse: 0.21188 Hit mse: 11.11604 L2: 2.52190\n",
      "Epoch : 29 Loss: 12.25985 E mse: 0.21184 Hit mse: 11.15568 L2: 2.52159\n",
      "Epoch : 30 Loss: 12.24027 E mse: 0.21181 Hit mse: 11.13582 L2: 2.52153\n"
     ]
    }
   ],
   "source": [
    "train_loop2(net, 30, 200, 1e-3, device)"
   ]
  },
  {
   "cell_type": "code",
   "execution_count": 8,
   "metadata": {},
   "outputs": [],
   "source": [
    "torch.save(net.state_dict(), \"Saves/ecal_ep_60.pth\")"
   ]
  },
  {
   "cell_type": "code",
   "execution_count": 4,
   "metadata": {},
   "outputs": [
    {
     "data": {
      "text/plain": [
       "tensor(0.0100)"
      ]
     },
     "execution_count": 4,
     "metadata": {},
     "output_type": "execute_result"
    }
   ],
   "source": []
  },
  {
   "cell_type": "markdown",
   "metadata": {},
   "source": [
    "## Inference and tests"
   ]
  },
  {
   "cell_type": "code",
   "execution_count": 9,
   "metadata": {},
   "outputs": [],
   "source": [
    "def reconstruct_img3(Y, mask):\n",
    "    xhit, yhit = Y[:, :, 0], Y[:, :, 1]\n",
    "    val = Y[:, :, 2]/50.\n",
    "    \n",
    "    xhit = (xhit % 125).int()\n",
    "    yhit = (yhit % 125).int()\n",
    "    \n",
    "    mask = mask*torch.arange(1, 0, -1./400)**2\n",
    "    # mask = mask*torch.exp(-torch.arange(400))\n",
    "    ecal = torch.zeros((Y.shape[0], 125, 125))\n",
    "    ecal[\n",
    "        torch.arange(Y.shape[0]).unsqueeze(1),\n",
    "        xhit,\n",
    "        yhit\n",
    "    ] = mask #*val\n",
    "    \n",
    "    return ecal\n",
    "\n",
    "def reconstruct_img2(Y, mask):\n",
    "    xhit, yhit = (Y[:, :, 0] + 10)*6.25, (Y[:, :, 1] + 10)*6.25\n",
    "    ener = ((Y[:, :, 2] + 10)/20)**10\n",
    "    \n",
    "    xhit = (xhit % 125).int()\n",
    "    yhit = (yhit % 125).int()\n",
    "    \n",
    "    ecal = torch.zeros((Y.shape[0], 125, 125))\n",
    "    ecal[\n",
    "        torch.arange(Y.shape[0]).unsqueeze(1),\n",
    "        xhit,\n",
    "        yhit\n",
    "    ] = mask*ener\n",
    "    \n",
    "    return ecal\n",
    "\n",
    "def loss_infer2(net, X, A, mask):\n",
    "    \"\"\"\n",
    "    Inference loss function\n",
    "    \"\"\"\n",
    "    # Reconstructed nodes and edges\n",
    "    Y, A2, mu, logvar, L1, L2 = net(X, A, mask)\n",
    "    # Convert back to image\n",
    "    ecal = reconstruct_img3(Y, mask)\n",
    "    \n",
    "    mse = torch.nn.MSELoss()\n",
    "    return mse(X, Y), ecal, A2"
   ]
  },
  {
   "cell_type": "code",
   "execution_count": 5,
   "metadata": {},
   "outputs": [
    {
     "data": {
      "text/plain": [
       "<All keys matched successfully>"
      ]
     },
     "execution_count": 5,
     "metadata": {},
     "output_type": "execute_result"
    }
   ],
   "source": [
    "net = GraphVAE(400, 3)\n",
    "net.load_state_dict(torch.load(\"Saves/ecal_ep_60.pth\"))"
   ]
  },
  {
   "cell_type": "code",
   "execution_count": 10,
   "metadata": {},
   "outputs": [],
   "source": [
    "dataset = get_train_dataset()\n",
    "data_loader = torch.utils.data.DataLoader(dataset, 200, True)"
   ]
  },
  {
   "cell_type": "code",
   "execution_count": 11,
   "metadata": {},
   "outputs": [
    {
     "name": "stdout",
     "output_type": "stream",
     "text": [
      "tensor([[1., 1., 1.,  ..., 0., 0., 0.],\n",
      "        [1., 1., 1.,  ..., 0., 0., 0.],\n",
      "        [1., 1., 1.,  ..., 0., 0., 0.],\n",
      "        ...,\n",
      "        [1., 1., 1.,  ..., 0., 0., 0.],\n",
      "        [1., 1., 1.,  ..., 0., 0., 0.],\n",
      "        [1., 1., 1.,  ..., 0., 0., 0.]])\n"
     ]
    }
   ],
   "source": [
    "for (X, NL, mask) in data_loader:\n",
    "    X = X\n",
    "    A = eval_A(NL.int()) * mask.unsqueeze(2)\n",
    "    print(A.sum(2))\n",
    "    mask = mask\n",
    "    with torch.no_grad():\n",
    "        img1 = reconstruct_img3(X, mask)\n",
    "        L, img2, A2 = loss_infer2(net, X, A, mask)\n",
    "    break"
   ]
  },
  {
   "cell_type": "code",
   "execution_count": 12,
   "metadata": {},
   "outputs": [
    {
     "data": {
      "text/plain": [
       "(tensor([[1., 1., 1.,  ..., 0., 0., 0.],\n",
       "         [1., 1., 1.,  ..., 0., 0., 0.],\n",
       "         [1., 1., 1.,  ..., 0., 0., 0.],\n",
       "         ...,\n",
       "         [1., 1., 1.,  ..., 0., 0., 0.],\n",
       "         [1., 1., 1.,  ..., 0., 0., 0.],\n",
       "         [1., 1., 1.,  ..., 0., 0., 0.]]),\n",
       " tensor([[251.5386, 251.5341, 251.5417,  ..., 251.5723, 251.5723, 251.5723],\n",
       "         [251.5442, 251.5173, 251.5415,  ..., 251.5530, 251.5530, 251.5530],\n",
       "         [251.5077, 251.5096, 251.4948,  ..., 251.5199, 251.5199, 251.5199],\n",
       "         ...,\n",
       "         [251.4813, 251.4783, 251.4995,  ..., 251.5530, 251.5530, 251.5530],\n",
       "         [251.5406, 251.5352, 251.6220,  ..., 251.5320, 251.5320, 251.5320],\n",
       "         [251.4781, 251.4804, 251.4787,  ..., 251.4909, 251.4909, 251.4909]]))"
      ]
     },
     "execution_count": 12,
     "metadata": {},
     "output_type": "execute_result"
    }
   ],
   "source": [
    "A.sum(2), A2.sum(2)"
   ]
  },
  {
   "cell_type": "code",
   "execution_count": 13,
   "metadata": {},
   "outputs": [
    {
     "data": {
      "text/plain": [
       "tensor(1.)"
      ]
     },
     "execution_count": 13,
     "metadata": {},
     "output_type": "execute_result"
    }
   ],
   "source": [
    "img1.max()"
   ]
  },
  {
   "cell_type": "code",
   "execution_count": 14,
   "metadata": {},
   "outputs": [
    {
     "data": {
      "text/plain": [
       "tensor(1.)"
      ]
     },
     "execution_count": 14,
     "metadata": {},
     "output_type": "execute_result"
    }
   ],
   "source": [
    "img2.max()"
   ]
  },
  {
   "cell_type": "code",
   "execution_count": 15,
   "metadata": {},
   "outputs": [
    {
     "data": {
      "image/png": "[encoded data removed]",
      "text/plain": [
       "<Figure size 640x480 with 2 Axes>"
      ]
     },
     "metadata": {},
     "output_type": "display_data"
    }
   ],
   "source": [
    "fig, ax = plt.subplots(1, 2)\n",
    "ax[0].imshow(img1[1]*(256))\n",
    "ax[1].imshow(img2[1]*(256))\n",
    "plt.show()"
   ]
  },
  {
   "cell_type": "markdown",
   "metadata": {},
   "source": [
    "## Graph dataset"
   ]
  },
  {
   "cell_type": "code",
   "execution_count": 25,
   "metadata": {},
   "outputs": [
    {
     "name": "stdout",
     "output_type": "stream",
     "text": [
      "(139306, 125, 125, 3)\n"
     ]
    }
   ],
   "source": [
    "f = h5.File(\"quark-gluon_data-set_n139306.hdf5\")\n",
    "print(f['X_jets'].shape)\n",
    "f.close()"
   ]
  },
  {
   "cell_type": "code",
   "execution_count": 3,
   "metadata": {},
   "outputs": [],
   "source": [
    "from data_load import preprocess"
   ]
  },
  {
   "cell_type": "code",
   "execution_count": 4,
   "metadata": {},
   "outputs": [
    {
     "name": "stdout",
     "output_type": "stream",
     "text": [
      "50000\n"
     ]
    }
   ],
   "source": [
    "with h5.File('quark_jets_ecal.h5', 'w') as g:\n",
    "    f = h5.File('quark-gluon_data-set_n139306.hdf5', 'r')\n",
    "    \n",
    "    dset = g.create_dataset('x', shape=(0, 125, 125, 3), dtype=np.float32,\n",
    "                            maxshape=(None, 125, 125, 3))\n",
    "    L = 100_000\n",
    "    w = 10_000\n",
    "\n",
    "    for i in range(10):\n",
    "        x, y = f['X_jets'][i*w: (i+1)*w], f['y'][i*w: (i+1)*w]\n",
    "        x, y = torch.from_numpy(x), torch.from_numpy(y)\n",
    "        (ind_0,) = torch.nonzero(y==0, as_tuple=True)\n",
    "        x = x[ind_0]\n",
    "        curr_shape = dset.shape[0]\n",
    "        dset.resize((curr_shape+x.shape[0], 125, 125, 3))\n",
    "        dset[curr_shape:, :, :] = x\n",
    "    print(dset.shape[0])\n",
    "    f.close()"
   ]
  },
  {
   "cell_type": "markdown",
   "metadata": {},
   "source": [
    "This generates a 3-channel heavy-duty dataset"
   ]
  },
  {
   "cell_type": "code",
   "execution_count": 2,
   "metadata": {},
   "outputs": [],
   "source": [
    "with h5.File('quark_jets_ecal.h5') as g:\n",
    "    with h5.File('quark_3chan_graph.h5', 'w') as h:\n",
    "        X_dset = h.create_dataset('X', shape=(0, 1000, 4), dtype=np.float32,\n",
    "                            maxshape=(None, 1000, 4))\n",
    "        A_dset = h.create_dataset('A', shape=(0, 1000, 1000), dtype=np.float32,\n",
    "                            maxshape=(None, 1000, 1000))\n",
    "        mask_dset = h.create_dataset('mask', shape=(0, 1000), dtype=np.float32,\n",
    "                            maxshape=(None, 1000))\n",
    "        \n",
    "        device = torch.device(\"cpu\")\n",
    "        w = 2000\n",
    "        for i in range(25):\n",
    "            x = g['x'][i*w: (i+1)*w]\n",
    "            x = torch.from_numpy(x).to(device)\n",
    "            X, A, mask, _ = preprocess(x, device)\n",
    "            \n",
    "            curr_shape = X_dset.shape[0]\n",
    "                \n",
    "            X_dset.resize((curr_shape+w, 1000, 4))\n",
    "            A_dset.resize((curr_shape+w, 1000, 1000))\n",
    "            mask_dset.resize((curr_shape+w, 1000))\n",
    "            \n",
    "            X_dset[curr_shape:, :, :] = X.to(\"cpu\").numpy()\n",
    "            A_dset[curr_shape:, :, :] = A.to(\"cpu\").numpy()\n",
    "            mask_dset[curr_shape:, :] = mask.to(\"cpu\").numpy()"
   ]
  },
  {
   "cell_type": "markdown",
   "metadata": {},
   "source": [
    "This generates a smaller single channel dataset"
   ]
  },
  {
   "cell_type": "code",
   "execution_count": 18,
   "metadata": {},
   "outputs": [
    {
     "name": "stdout",
     "output_type": "stream",
     "text": [
      "tensor([[6., 6., 6.,  ..., 0., 0., 0.],\n",
      "        [6., 6., 6.,  ..., 0., 0., 0.],\n",
      "        [6., 6., 6.,  ..., 0., 0., 0.],\n",
      "        ...,\n",
      "        [6., 6., 6.,  ..., 0., 0., 0.],\n",
      "        [6., 6., 6.,  ..., 0., 0., 0.],\n",
      "        [6., 6., 6.,  ..., 0., 0., 0.]])\n"
     ]
    }
   ],
   "source": [
    "with h5.File('quark_jets_ecal.h5') as g:\n",
    "        \n",
    "    device = torch.device(\"cpu\")\n",
    "    w = 2000\n",
    "    for i in range(25):\n",
    "        x = g['x'][i*w: (i+1)*w]\n",
    "        x[x < 1e-3] = 0\n",
    "        x = torch.from_numpy(x)[:, :, :, 1].to(device)\n",
    "        X, A, mask, _ = preprocess(x, device)\n",
    "        \n",
    "        NL = torch.argsort(A, 1, True)[:, :6, :].int()\n",
    "        print((A[torch.arange(w).view(-1, 1, 1), NL, \n",
    "                torch.arange(400).view(1, 1, -1)]).sum(1))\n",
    "        break"
   ]
  },
  {
   "cell_type": "code",
   "execution_count": 21,
   "metadata": {},
   "outputs": [],
   "source": [
    "with h5.File('quark_jets_ecal.h5') as g:\n",
    "    with h5.File('quark_ecal_graph_compressed.h5', 'w') as h:\n",
    "        X_dset = h.create_dataset('X', shape=(0, 400, 3), dtype=np.float32,\n",
    "                            maxshape=(None, 400, 3), compression=\"gzip\")\n",
    "        NL_dset = h.create_dataset('NL', shape=(0, 400, 6), dtype=np.float32,\n",
    "                            maxshape=(None, 400, 6), compression=\"gzip\")\n",
    "        mask_dset = h.create_dataset('mask', shape=(0, 400), dtype=np.float32,\n",
    "                            maxshape=(None, 400), compression=\"gzip\")\n",
    "        \n",
    "        device = \"cpu\"\n",
    "        w = 2000\n",
    "        for i in range(25):\n",
    "            x = g['x'][i*w: (i+1)*w]\n",
    "            x[x < 1e-3] = 0\n",
    "            x = torch.from_numpy(x)[:, :, :, 1].to(device)\n",
    "            X, A, mask, _ = preprocess(x, device)\n",
    "            \n",
    "            NL = torch.argsort(A, 1, True)[:, :6, :].int().permute(0, 2, 1)\n",
    "            \n",
    "            curr_shape = X_dset.shape[0]\n",
    "                \n",
    "            X_dset.resize((curr_shape+w, 400, 3))\n",
    "            NL_dset.resize((curr_shape+w, 400, 6))\n",
    "            mask_dset.resize((curr_shape+w, 400))\n",
    "            \n",
    "            X_dset[curr_shape:, :, :] = X.to(\"cpu\").numpy()\n",
    "            NL_dset[curr_shape:, :, :] = NL.to(\"cpu\").numpy()\n",
    "            mask_dset[curr_shape:, :] = mask.int().to(\"cpu\").numpy()\n",
    "            "
   ]
  },
  {
   "cell_type": "code",
   "execution_count": 6,
   "metadata": {},
   "outputs": [],
   "source": [
    "with h5.File('quark_ecal_graph.h5') as g:\n",
    "    with h5.File('quark_ecal_graph_compressed.h5', 'w') as h:\n",
    "        X_dset = h.create_dataset('X', shape=(0, 400, 3), dtype=np.float32,\n",
    "                            maxshape=(None, 400, 3), compression=\"gzip\")\n",
    "        NL_dset = h.create_dataset('NL', shape=(0, 400, 6), dtype=np.float32,\n",
    "                            maxshape=(None, 400, 6), compression=\"gzip\")\n",
    "        mask_dset = h.create_dataset('mask', shape=(0, 400), dtype=np.float32,\n",
    "                            maxshape=(None, 400), compression=\"gzip\")\n",
    "        \n",
    "        device = \"cpu\"\n",
    "        w = 2000\n",
    "        for i in range(25):\n",
    "            X = torch.from_numpy(g['X'][i*w: (i+1)*w]).to(device)\n",
    "            A = torch.from_numpy(g['A'][i*w: (i+1)*w]).to(device)\n",
    "            mask = g['mask'][i*w: (i+1)*w]\n",
    "            \n",
    "            X[:, :, :2] = (X[:, :, :2]/62.5)\n",
    "            X[:, :, 2] = (X[:, :, 2]**0.1)*2\n",
    "            \n",
    "            NL = torch.argsort(A, 1, True)[:, :6, :].int().permute((0, 2, 1))\n",
    "            \n",
    "            curr_shape = X_dset.shape[0]\n",
    "                \n",
    "            X_dset.resize((curr_shape+w, 400, 3))\n",
    "            NL_dset.resize((curr_shape+w, 400, 6))\n",
    "            mask_dset.resize((curr_shape+w, 400))\n",
    "            \n",
    "            X_dset[curr_shape:, :, :] = X.to(\"cpu\").numpy()\n",
    "            NL_dset[curr_shape:, :, :] = NL.to(\"cpu\").numpy()\n",
    "            mask_dset[curr_shape:, :] = mask"
   ]
  },
  {
   "cell_type": "code",
   "execution_count": 2,
   "metadata": {},
   "outputs": [],
   "source": [
    "dataset = get_train_dataset()"
   ]
  },
  {
   "cell_type": "code",
   "execution_count": null,
   "metadata": {},
   "outputs": [],
   "source": []
  }
 ],
 "metadata": {
  "kernelspec": {
   "display_name": "torch-geo",
   "language": "python",
   "name": "python3"
  },
  "language_info": {
   "codemirror_mode": {
    "name": "ipython",
    "version": 3
   },
   "file_extension": ".py",
   "mimetype": "text/x-python",
   "name": "python",
   "nbconvert_exporter": "python",
   "pygments_lexer": "ipython3",
   "version": "3.11.5"
  },
  "orig_nbformat": 4
 },
 "nbformat": 4,
 "nbformat_minor": 2
}
