{
 "cells": [
  {
   "cell_type": "code",
   "execution_count": 2,
   "metadata": {},
   "outputs": [],
   "source": [
    "import numpy as np\n",
    "import h5py as h5\n",
    "import matplotlib.pyplot as plt\n",
    "\n",
    "import torch\n",
    "import torch_geometric\n",
    "import torch.nn as nn\n",
    "import torch.nn.functional as F\n",
    "from torch_geometric import nn as gnn\n",
    "\n",
    "from graph_vae import GraphVAE\n",
    "from train import train_loop, loss_infer\n",
    "from data_load import *"
   ]
  },
  {
   "cell_type": "markdown",
   "metadata": {},
   "source": [
    "## Model Definition and training"
   ]
  },
  {
   "cell_type": "code",
   "execution_count": 2,
   "metadata": {},
   "outputs": [],
   "source": [
    "net = GraphVAE(3, 32, 8)"
   ]
  },
  {
   "cell_type": "code",
   "execution_count": 3,
   "metadata": {},
   "outputs": [
    {
     "name": "stdout",
     "output_type": "stream",
     "text": [
      "tensor(10896.8896, grad_fn=<AddBackward0>)\n",
      "tensor(2671.9678, grad_fn=<AddBackward0>)\n",
      "tensor(1107.5021, grad_fn=<AddBackward0>)\n",
      "tensor(5418.1416, grad_fn=<AddBackward0>)\n",
      "tensor(442.8770, grad_fn=<AddBackward0>)\n",
      "tensor(268.6129, grad_fn=<AddBackward0>)\n",
      "tensor(1596.9285, grad_fn=<AddBackward0>)\n",
      "tensor(2340.0715, grad_fn=<AddBackward0>)\n",
      "tensor(581.6447, grad_fn=<AddBackward0>)\n",
      "tensor(328.2187, grad_fn=<AddBackward0>)\n",
      "tensor(253.4985, grad_fn=<AddBackward0>)\n",
      "tensor(100.8594, grad_fn=<AddBackward0>)\n",
      "tensor(220.5975, grad_fn=<AddBackward0>)\n",
      "tensor(237.7162, grad_fn=<AddBackward0>)\n",
      "tensor(219.6064, grad_fn=<AddBackward0>)\n",
      "tensor(514.3588, grad_fn=<AddBackward0>)\n",
      "tensor(128.2311, grad_fn=<AddBackward0>)\n",
      "tensor(38.1803, grad_fn=<AddBackward0>)\n",
      "tensor(64.4990, grad_fn=<AddBackward0>)\n",
      "tensor(246.7924, grad_fn=<AddBackward0>)\n",
      "tensor(1756.4315, grad_fn=<AddBackward0>)\n",
      "tensor(22.4341, grad_fn=<AddBackward0>)\n",
      "tensor(28.8205, grad_fn=<AddBackward0>)\n",
      "tensor(30.7324, grad_fn=<AddBackward0>)\n",
      "tensor(25.2942, grad_fn=<AddBackward0>)\n",
      "tensor(18.6572, grad_fn=<AddBackward0>)\n",
      "tensor(22.2719, grad_fn=<AddBackward0>)\n",
      "tensor(48.3944, grad_fn=<AddBackward0>)\n",
      "tensor(14.3829, grad_fn=<AddBackward0>)\n",
      "tensor(211.5724, grad_fn=<AddBackward0>)\n",
      "tensor(12.9552, grad_fn=<AddBackward0>)\n",
      "tensor(18.9036, grad_fn=<AddBackward0>)\n",
      "tensor(11.3084, grad_fn=<AddBackward0>)\n",
      "tensor(21.5800, grad_fn=<AddBackward0>)\n",
      "tensor(13.4201, grad_fn=<AddBackward0>)\n",
      "tensor(6.6857, grad_fn=<AddBackward0>)\n",
      "tensor(5.0969, grad_fn=<AddBackward0>)\n",
      "tensor(13.7856, grad_fn=<AddBackward0>)\n",
      "tensor(11.7228, grad_fn=<AddBackward0>)\n",
      "tensor(7.9672, grad_fn=<AddBackward0>)\n",
      "tensor(11.9328, grad_fn=<AddBackward0>)\n",
      "tensor(4.0335, grad_fn=<AddBackward0>)\n",
      "tensor(4.4601, grad_fn=<AddBackward0>)\n",
      "tensor(3.4851, grad_fn=<AddBackward0>)\n",
      "tensor(5.6751, grad_fn=<AddBackward0>)\n",
      "tensor(5.4241, grad_fn=<AddBackward0>)\n",
      "tensor(7.2100, grad_fn=<AddBackward0>)\n",
      "tensor(6.3317, grad_fn=<AddBackward0>)\n",
      "tensor(46.2705, grad_fn=<AddBackward0>)\n",
      "tensor(37.2563, grad_fn=<AddBackward0>)\n",
      "tensor(6.6674, grad_fn=<AddBackward0>)\n",
      "tensor(4.3135, grad_fn=<AddBackward0>)\n",
      "tensor(5.3190, grad_fn=<AddBackward0>)\n",
      "tensor(18.5785, grad_fn=<AddBackward0>)\n",
      "tensor(6.4914, grad_fn=<AddBackward0>)\n",
      "tensor(2454.2061, grad_fn=<AddBackward0>)\n",
      "tensor(5.5838, grad_fn=<AddBackward0>)\n",
      "tensor(4.8372, grad_fn=<AddBackward0>)\n",
      "tensor(3.8069, grad_fn=<AddBackward0>)\n",
      "tensor(4.1860, grad_fn=<AddBackward0>)\n",
      "tensor(3.9362, grad_fn=<AddBackward0>)\n",
      "tensor(3.8209, grad_fn=<AddBackward0>)\n",
      "tensor(3.0746, grad_fn=<AddBackward0>)\n",
      "tensor(3.5593, grad_fn=<AddBackward0>)\n",
      "tensor(3.2270, grad_fn=<AddBackward0>)\n",
      "tensor(5.2038, grad_fn=<AddBackward0>)\n",
      "tensor(3.1630, grad_fn=<AddBackward0>)\n",
      "tensor(3.1129, grad_fn=<AddBackward0>)\n",
      "tensor(3.2497, grad_fn=<AddBackward0>)\n",
      "tensor(4.4688, grad_fn=<AddBackward0>)\n",
      "tensor(2.9905, grad_fn=<AddBackward0>)\n",
      "tensor(3.8894, grad_fn=<AddBackward0>)\n",
      "tensor(3.3651, grad_fn=<AddBackward0>)\n",
      "tensor(3.7903, grad_fn=<AddBackward0>)\n",
      "tensor(3.7459, grad_fn=<AddBackward0>)\n",
      "tensor(3.1768, grad_fn=<AddBackward0>)\n",
      "tensor(3.3642, grad_fn=<AddBackward0>)\n",
      "tensor(3.0980, grad_fn=<AddBackward0>)\n",
      "tensor(3.3747, grad_fn=<AddBackward0>)\n",
      "tensor(5.7012, grad_fn=<AddBackward0>)\n",
      "tensor(3.9644, grad_fn=<AddBackward0>)\n",
      "tensor(3.2644, grad_fn=<AddBackward0>)\n",
      "tensor(11.5824, grad_fn=<AddBackward0>)\n",
      "tensor(2.7807, grad_fn=<AddBackward0>)\n",
      "tensor(3.0405, grad_fn=<AddBackward0>)\n",
      "tensor(3.0469, grad_fn=<AddBackward0>)\n",
      "tensor(4.8410, grad_fn=<AddBackward0>)\n",
      "tensor(4.0531, grad_fn=<AddBackward0>)\n",
      "tensor(3.1272, grad_fn=<AddBackward0>)\n",
      "tensor(2.9164, grad_fn=<AddBackward0>)\n",
      "tensor(3.4399, grad_fn=<AddBackward0>)\n",
      "tensor(3.0394, grad_fn=<AddBackward0>)\n",
      "tensor(5.7135, grad_fn=<AddBackward0>)\n",
      "tensor(3.1812, grad_fn=<AddBackward0>)\n",
      "tensor(3.2709, grad_fn=<AddBackward0>)\n",
      "tensor(3.7047, grad_fn=<AddBackward0>)\n",
      "tensor(2.8838, grad_fn=<AddBackward0>)\n",
      "tensor(3.8486, grad_fn=<AddBackward0>)\n",
      "tensor(5.0047, grad_fn=<AddBackward0>)\n",
      "tensor(11.0100, grad_fn=<AddBackward0>)\n",
      "tensor(3.0289, grad_fn=<AddBackward0>)\n",
      "tensor(2.8926, grad_fn=<AddBackward0>)\n",
      "tensor(2.7351, grad_fn=<AddBackward0>)\n",
      "tensor(3.3279, grad_fn=<AddBackward0>)\n",
      "tensor(3.0720, grad_fn=<AddBackward0>)\n",
      "tensor(2.9324, grad_fn=<AddBackward0>)\n",
      "tensor(2.9930, grad_fn=<AddBackward0>)\n",
      "tensor(3.2127, grad_fn=<AddBackward0>)\n",
      "tensor(4.3598, grad_fn=<AddBackward0>)\n",
      "tensor(2.7108, grad_fn=<AddBackward0>)\n",
      "tensor(2.7836, grad_fn=<AddBackward0>)\n",
      "tensor(3.2487, grad_fn=<AddBackward0>)\n",
      "tensor(3.5265, grad_fn=<AddBackward0>)\n",
      "tensor(4.7295, grad_fn=<AddBackward0>)\n",
      "tensor(3.0178, grad_fn=<AddBackward0>)\n",
      "tensor(3.0529, grad_fn=<AddBackward0>)\n",
      "tensor(3.0978, grad_fn=<AddBackward0>)\n",
      "tensor(4.9223, grad_fn=<AddBackward0>)\n",
      "tensor(3.0679, grad_fn=<AddBackward0>)\n",
      "tensor(2.8650, grad_fn=<AddBackward0>)\n",
      "tensor(3.4836, grad_fn=<AddBackward0>)\n",
      "tensor(2.7028, grad_fn=<AddBackward0>)\n",
      "tensor(3.1418, grad_fn=<AddBackward0>)\n",
      "tensor(3.5620, grad_fn=<AddBackward0>)\n",
      "tensor(3.2154, grad_fn=<AddBackward0>)\n",
      "tensor(2.7245, grad_fn=<AddBackward0>)\n",
      "tensor(3.4731, grad_fn=<AddBackward0>)\n",
      "tensor(2.9327, grad_fn=<AddBackward0>)\n",
      "tensor(2.8077, grad_fn=<AddBackward0>)\n",
      "tensor(6.7834, grad_fn=<AddBackward0>)\n",
      "tensor(2.5839, grad_fn=<AddBackward0>)\n",
      "tensor(2.7486, grad_fn=<AddBackward0>)\n",
      "tensor(334.6442, grad_fn=<AddBackward0>)\n",
      "tensor(2.7292, grad_fn=<AddBackward0>)\n",
      "tensor(2.9527, grad_fn=<AddBackward0>)\n",
      "tensor(3112.2266, grad_fn=<AddBackward0>)\n",
      "tensor(3.1519, grad_fn=<AddBackward0>)\n",
      "tensor(2.6327, grad_fn=<AddBackward0>)\n",
      "tensor(2.7782, grad_fn=<AddBackward0>)\n",
      "tensor(2.7955, grad_fn=<AddBackward0>)\n",
      "tensor(2.9838, grad_fn=<AddBackward0>)\n",
      "tensor(4.3846, grad_fn=<AddBackward0>)\n",
      "tensor(2.8294, grad_fn=<AddBackward0>)\n",
      "tensor(2.5529, grad_fn=<AddBackward0>)\n",
      "tensor(9.8109, grad_fn=<AddBackward0>)\n",
      "tensor(2.6435, grad_fn=<AddBackward0>)\n",
      "tensor(2.5543, grad_fn=<AddBackward0>)\n",
      "tensor(2.6000, grad_fn=<AddBackward0>)\n",
      "tensor(2.6077, grad_fn=<AddBackward0>)\n",
      "tensor(3.8126, grad_fn=<AddBackward0>)\n",
      "tensor(2.7361, grad_fn=<AddBackward0>)\n",
      "tensor(3.4276, grad_fn=<AddBackward0>)\n",
      "tensor(2.7289, grad_fn=<AddBackward0>)\n",
      "tensor(2.5158, grad_fn=<AddBackward0>)\n",
      "tensor(2.5756, grad_fn=<AddBackward0>)\n",
      "tensor(2.6712, grad_fn=<AddBackward0>)\n",
      "tensor(2.6632, grad_fn=<AddBackward0>)\n",
      "tensor(3.3118, grad_fn=<AddBackward0>)\n",
      "tensor(2.6065, grad_fn=<AddBackward0>)\n",
      "tensor(2.7509, grad_fn=<AddBackward0>)\n",
      "tensor(2.9517, grad_fn=<AddBackward0>)\n",
      "tensor(2.5584, grad_fn=<AddBackward0>)\n",
      "tensor(2.6028, grad_fn=<AddBackward0>)\n",
      "tensor(5.3780, grad_fn=<AddBackward0>)\n",
      "tensor(2.7369, grad_fn=<AddBackward0>)\n",
      "tensor(2.7144, grad_fn=<AddBackward0>)\n",
      "tensor(3.0264, grad_fn=<AddBackward0>)\n",
      "tensor(2.5412, grad_fn=<AddBackward0>)\n",
      "tensor(2.4928, grad_fn=<AddBackward0>)\n",
      "tensor(2.7415, grad_fn=<AddBackward0>)\n",
      "tensor(3.1025, grad_fn=<AddBackward0>)\n",
      "tensor(2.6465, grad_fn=<AddBackward0>)\n",
      "tensor(2.5441, grad_fn=<AddBackward0>)\n",
      "tensor(2.5935, grad_fn=<AddBackward0>)\n",
      "tensor(2.5191, grad_fn=<AddBackward0>)\n",
      "tensor(2.7132, grad_fn=<AddBackward0>)\n",
      "tensor(2.5538, grad_fn=<AddBackward0>)\n",
      "tensor(33.6837, grad_fn=<AddBackward0>)\n",
      "tensor(4.4004, grad_fn=<AddBackward0>)\n",
      "tensor(3.2968, grad_fn=<AddBackward0>)\n",
      "tensor(2.5414, grad_fn=<AddBackward0>)\n",
      "tensor(2.9072, grad_fn=<AddBackward0>)\n",
      "tensor(2.6249, grad_fn=<AddBackward0>)\n",
      "tensor(2.5632, grad_fn=<AddBackward0>)\n",
      "tensor(2.5352, grad_fn=<AddBackward0>)\n",
      "tensor(2.6951, grad_fn=<AddBackward0>)\n",
      "tensor(2.5046, grad_fn=<AddBackward0>)\n",
      "tensor(2.7655, grad_fn=<AddBackward0>)\n",
      "tensor(6.0894, grad_fn=<AddBackward0>)\n",
      "tensor(2.6327, grad_fn=<AddBackward0>)\n",
      "tensor(2.5330, grad_fn=<AddBackward0>)\n",
      "tensor(2.6040, grad_fn=<AddBackward0>)\n",
      "tensor(2.5122, grad_fn=<AddBackward0>)\n",
      "tensor(4.7232, grad_fn=<AddBackward0>)\n",
      "tensor(2.4828, grad_fn=<AddBackward0>)\n",
      "tensor(2.4557, grad_fn=<AddBackward0>)\n",
      "tensor(2.8176, grad_fn=<AddBackward0>)\n",
      "tensor(2.5221, grad_fn=<AddBackward0>)\n",
      "tensor(2.5313, grad_fn=<AddBackward0>)\n",
      "tensor(2.7247, grad_fn=<AddBackward0>)\n",
      "tensor(2.5528, grad_fn=<AddBackward0>)\n",
      "tensor(2.7438, grad_fn=<AddBackward0>)\n",
      "tensor(2.5546, grad_fn=<AddBackward0>)\n",
      "tensor(2.5493, grad_fn=<AddBackward0>)\n",
      "tensor(2.6781, grad_fn=<AddBackward0>)\n",
      "tensor(3.4654, grad_fn=<AddBackward0>)\n",
      "tensor(4.2525, grad_fn=<AddBackward0>)\n",
      "tensor(2.7208, grad_fn=<AddBackward0>)\n",
      "tensor(2.7215, grad_fn=<AddBackward0>)\n",
      "tensor(2.5205, grad_fn=<AddBackward0>)\n",
      "tensor(2.5418, grad_fn=<AddBackward0>)\n",
      "tensor(2.6752, grad_fn=<AddBackward0>)\n",
      "tensor(2.7160, grad_fn=<AddBackward0>)\n",
      "tensor(111.9389, grad_fn=<AddBackward0>)\n",
      "tensor(2.7211, grad_fn=<AddBackward0>)\n",
      "tensor(2.5445, grad_fn=<AddBackward0>)\n",
      "tensor(2.5612, grad_fn=<AddBackward0>)\n",
      "tensor(2.5630, grad_fn=<AddBackward0>)\n",
      "tensor(2.6501, grad_fn=<AddBackward0>)\n",
      "tensor(10.2547, grad_fn=<AddBackward0>)\n",
      "tensor(2.5026, grad_fn=<AddBackward0>)\n",
      "tensor(2.6130, grad_fn=<AddBackward0>)\n",
      "tensor(2.6462, grad_fn=<AddBackward0>)\n",
      "tensor(2.6719, grad_fn=<AddBackward0>)\n",
      "tensor(2.5713, grad_fn=<AddBackward0>)\n",
      "tensor(2.5608, grad_fn=<AddBackward0>)\n",
      "tensor(2.5358, grad_fn=<AddBackward0>)\n",
      "tensor(3.0161, grad_fn=<AddBackward0>)\n",
      "tensor(2.6680, grad_fn=<AddBackward0>)\n",
      "tensor(2.4898, grad_fn=<AddBackward0>)\n",
      "tensor(2.7785, grad_fn=<AddBackward0>)\n",
      "tensor(2.5365, grad_fn=<AddBackward0>)\n",
      "tensor(2.7647, grad_fn=<AddBackward0>)\n",
      "tensor(2.5692, grad_fn=<AddBackward0>)\n",
      "tensor(2.6250, grad_fn=<AddBackward0>)\n",
      "tensor(2.7662, grad_fn=<AddBackward0>)\n",
      "tensor(2.8653, grad_fn=<AddBackward0>)\n",
      "tensor(2.6649, grad_fn=<AddBackward0>)\n",
      "tensor(2.4982, grad_fn=<AddBackward0>)\n",
      "tensor(2.5191, grad_fn=<AddBackward0>)\n",
      "tensor(2.6458, grad_fn=<AddBackward0>)\n",
      "tensor(38.2902, grad_fn=<AddBackward0>)\n",
      "tensor(2.5343, grad_fn=<AddBackward0>)\n",
      "tensor(2.4810, grad_fn=<AddBackward0>)\n",
      "tensor(2.6283, grad_fn=<AddBackward0>)\n",
      "tensor(2.7193, grad_fn=<AddBackward0>)\n",
      "tensor(2.4223, grad_fn=<AddBackward0>)\n",
      "tensor(2.8347, grad_fn=<AddBackward0>)\n",
      "tensor(2.5174, grad_fn=<AddBackward0>)\n",
      "tensor(2.5786, grad_fn=<AddBackward0>)\n"
     ]
    }
   ],
   "source": [
    "train_loop(net, 1, 200)"
   ]
  },
  {
   "cell_type": "code",
   "execution_count": 4,
   "metadata": {},
   "outputs": [],
   "source": [
    "torch.save(net.state_dict(), \"Saves/L_50k_2.pth\")"
   ]
  },
  {
   "cell_type": "markdown",
   "metadata": {},
   "source": [
    "## Inference and tests"
   ]
  },
  {
   "cell_type": "code",
   "execution_count": 5,
   "metadata": {},
   "outputs": [],
   "source": [
    "from data_load import get_train_dataset"
   ]
  },
  {
   "cell_type": "code",
   "execution_count": 6,
   "metadata": {},
   "outputs": [
    {
     "data": {
      "text/plain": [
       "<All keys matched successfully>"
      ]
     },
     "execution_count": 6,
     "metadata": {},
     "output_type": "execute_result"
    }
   ],
   "source": [
    "net = GraphVAE(3, 32, 8)\n",
    "net.load_state_dict(torch.load(\"Saves/L_50k_2.pth\"))"
   ]
  },
  {
   "cell_type": "code",
   "execution_count": 7,
   "metadata": {},
   "outputs": [],
   "source": [
    "dataset = get_train_dataset(10_000)\n",
    "dataloader = torch.utils.data.DataLoader(dataset, 200, True)"
   ]
  },
  {
   "cell_type": "code",
   "execution_count": 8,
   "metadata": {},
   "outputs": [],
   "source": [
    "for (x,) in dataloader:\n",
    "    img1 = x[:, :, :, 1]\n",
    "    with torch.no_grad():\n",
    "        L, img2, counts = loss_infer(net, x)\n",
    "    break"
   ]
  },
  {
   "cell_type": "code",
   "execution_count": 13,
   "metadata": {},
   "outputs": [
    {
     "data": {
      "text/plain": [
       "tensor(0.)"
      ]
     },
     "execution_count": 13,
     "metadata": {},
     "output_type": "execute_result"
    }
   ],
   "source": [
    "img2[1].min()"
   ]
  },
  {
   "cell_type": "code",
   "execution_count": 12,
   "metadata": {},
   "outputs": [
    {
     "data": {
      "image/png": "[encoded data removed]",
      "text/plain": [
       "<Figure size 640x480 with 2 Axes>"
      ]
     },
     "metadata": {},
     "output_type": "display_data"
    }
   ],
   "source": [
    "fig, ax = plt.subplots(1, 2)\n",
    "ax[0].imshow(img1[1]*(256/5))\n",
    "ax[1].imshow(img2[1]*(256/5))\n",
    "plt.show()"
   ]
  },
  {
   "cell_type": "markdown",
   "metadata": {},
   "source": [
    "## Scratchpad"
   ]
  },
  {
   "cell_type": "code",
   "execution_count": 4,
   "metadata": {},
   "outputs": [
    {
     "name": "stdout",
     "output_type": "stream",
     "text": [
      "\u001b[0;31mDocstring:\u001b[0m\n",
      "argsort(input, dim=-1, descending=False, stable=False) -> Tensor\n",
      "\n",
      "Returns the indices that sort a tensor along a given dimension in ascending\n",
      "order by value.\n",
      "\n",
      "This is the second value returned by :meth:`torch.sort`.  See its documentation\n",
      "for the exact semantics of this method.\n",
      "\n",
      "If :attr:`stable` is ``True`` then the sorting routine becomes stable, preserving\n",
      "the order of equivalent elements. If ``False``, the relative order of values\n",
      "which compare equal is not guaranteed. ``True`` is slower.\n",
      "\n",
      "Args:\n",
      "    input (Tensor): the input tensor.\n",
      "    dim (int, optional): the dimension to sort along\n",
      "    descending (bool, optional): controls the sorting order (ascending or descending)\n",
      "    stable (bool, optional): controls the relative order of equivalent elements\n",
      "\n",
      "Example::\n",
      "\n",
      "    >>> a = torch.randn(4, 4)\n",
      "    >>> a\n",
      "    tensor([[ 0.0785,  1.5267, -0.8521,  0.4065],\n",
      "            [ 0.1598,  0.0788, -0.0745, -1.2700],\n",
      "            [ 1.2208,  1.0722, -0.7064,  1.2564],\n",
      "            [ 0.0669, -0.2318, -0.8229, -0.9280]])\n",
      "\n",
      "\n",
      "    >>> torch.argsort(a, dim=1)\n",
      "    tensor([[2, 0, 3, 1],\n",
      "            [3, 2, 1, 0],\n",
      "            [2, 1, 0, 3],\n",
      "            [3, 2, 1, 0]])\n",
      "\u001b[0;31mType:\u001b[0m      builtin_function_or_method"
     ]
    }
   ],
   "source": [
    "? torch.argsort"
   ]
  },
  {
   "cell_type": "code",
   "execution_count": 16,
   "metadata": {},
   "outputs": [],
   "source": [
    "x = torch.randn(100, 50, 3)\n",
    "indx = torch.argsort(x[:, :, 2], descending=True)"
   ]
  },
  {
   "cell_type": "code",
   "execution_count": 17,
   "metadata": {},
   "outputs": [],
   "source": [
    "batch, nodes = x.shape[0], x.shape[1]\n",
    "\n",
    "# Change to 1d\n",
    "kappa = nodes*torch.arange(batch).unsqueeze(1)\n",
    "indx2 = torch.flatten(kappa + indx)\n",
    "x2 = torch.flatten(x, 0, 1)[indx2, :].reshape((batch, nodes, 3))"
   ]
  },
  {
   "cell_type": "code",
   "execution_count": 28,
   "metadata": {},
   "outputs": [],
   "source": [
    "A = torch.rand(100, 50, 50)\n",
    "\n",
    "# Get indices to sort dim=1,2 of A\n",
    "indx3 = ((kappa+indx)*torch.arange(nodes)).unsqueeze(2)\n",
    "indx3 = indx3 + indx.unsqueeze(1)\n",
    "# Flatten A, sort, and get it back to shape\n",
    "A = torch.flatten(A)[indx3].reshape(A.shape)"
   ]
  },
  {
   "cell_type": "code",
   "execution_count": 29,
   "metadata": {},
   "outputs": [
    {
     "data": {
      "text/plain": [
       "torch.Size([100, 50, 50])"
      ]
     },
     "execution_count": 29,
     "metadata": {},
     "output_type": "execute_result"
    }
   ],
   "source": [
    "A.shape"
   ]
  },
  {
   "cell_type": "code",
   "execution_count": 8,
   "metadata": {},
   "outputs": [],
   "source": [
    "X, mask = to_dense_batch(G, lengs, fill_value=0, max_num_nodes=1000)\n",
    "A = to_dense_adj(E, lengs, max_num_nodes=1000) # (batch, 1000, 1000)\n"
   ]
  },
  {
   "cell_type": "code",
   "execution_count": 9,
   "metadata": {},
   "outputs": [
    {
     "data": {
      "text/plain": [
       "(torch.Size([2, 1000, 3]), torch.Size([2, 1000, 1000]))"
      ]
     },
     "execution_count": 9,
     "metadata": {},
     "output_type": "execute_result"
    }
   ],
   "source": [
    "X = X\n",
    "A = A\n",
    "X.shape, A.shape"
   ]
  },
  {
   "cell_type": "code",
   "execution_count": 12,
   "metadata": {},
   "outputs": [
    {
     "data": {
      "text/plain": [
       "GraphVAE(\n",
       "  (sage): ModuleList(\n",
       "    (0): DenseSAGEConv(3, 16)\n",
       "    (1): DenseSAGEConv(16, 16)\n",
       "    (2): DenseSAGEConv(16, 3)\n",
       "  )\n",
       "  (drop): ModuleList(\n",
       "    (0): Dropout(p=0.5, inplace=False)\n",
       "    (1): Dropout(p=0.4, inplace=False)\n",
       "    (2): Dropout(p=0.3, inplace=False)\n",
       "  )\n",
       "  (batch_norm): ModuleList(\n",
       "    (0): BatchNorm1d(1000, eps=1e-05, momentum=0.1, affine=True, track_running_stats=True)\n",
       "    (1): BatchNorm1d(500, eps=1e-05, momentum=0.1, affine=True, track_running_stats=True)\n",
       "    (2): BatchNorm1d(250, eps=1e-05, momentum=0.1, affine=True, track_running_stats=True)\n",
       "  )\n",
       "  (pool): ModuleList(\n",
       "    (0): MinCut_Pool(\n",
       "      (linear): Linear(in_features=16, out_features=500, bias=True)\n",
       "    )\n",
       "    (1): MinCut_Pool(\n",
       "      (linear): Linear(in_features=16, out_features=250, bias=True)\n",
       "    )\n",
       "  )\n",
       "  (tr_mu): Linear(in_features=3, out_features=16, bias=True)\n",
       "  (tr_var): Linear(in_features=3, out_features=16, bias=True)\n",
       "  (tr_rev): Linear(in_features=16, out_features=3, bias=True)\n",
       "  (revsage): ModuleList(\n",
       "    (0): DenseSAGEConv(16, 3)\n",
       "    (1): DenseSAGEConv(16, 16)\n",
       "    (2): DenseSAGEConv(3, 16)\n",
       "  )\n",
       ")"
      ]
     },
     "execution_count": 12,
     "metadata": {},
     "output_type": "execute_result"
    }
   ],
   "source": [
    "net = GraphVAE(3, 16, 3)\n",
    "net"
   ]
  },
  {
   "cell_type": "code",
   "execution_count": 42,
   "metadata": {},
   "outputs": [],
   "source": [
    "Z, A, mu, logvar, L1, L2 = net(X, A)"
   ]
  },
  {
   "cell_type": "code",
   "execution_count": 43,
   "metadata": {},
   "outputs": [
    {
     "data": {
      "text/plain": [
       "(torch.Size([2, 1000, 3]), torch.Size([2, 1000, 1000]))"
      ]
     },
     "execution_count": 43,
     "metadata": {},
     "output_type": "execute_result"
    }
   ],
   "source": [
    "Z.shape, A.shape"
   ]
  },
  {
   "cell_type": "code",
   "execution_count": null,
   "metadata": {},
   "outputs": [],
   "source": []
  }
 ],
 "metadata": {
  "kernelspec": {
   "display_name": "torch-geo",
   "language": "python",
   "name": "python3"
  },
  "language_info": {
   "codemirror_mode": {
    "name": "ipython",
    "version": 3
   },
   "file_extension": ".py",
   "mimetype": "text/x-python",
   "name": "python",
   "nbconvert_exporter": "python",
   "pygments_lexer": "ipython3",
   "version": "3.11.5"
  },
  "orig_nbformat": 4
 },
 "nbformat": 4,
 "nbformat_minor": 2
}
