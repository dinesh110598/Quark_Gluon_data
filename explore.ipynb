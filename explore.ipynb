{
 "cells": [
  {
   "cell_type": "code",
   "execution_count": 1,
   "metadata": {},
   "outputs": [],
   "source": [
    "import numpy as np\n",
    "import h5py as h5\n",
    "import matplotlib.pyplot as plt\n",
    "\n",
    "import torch\n",
    "import torch_geometric\n",
    "import torch.nn as nn\n",
    "import torch.nn.functional as F\n",
    "from torch_geometric import nn as gnn\n",
    "\n",
    "from graph_vae import GraphVAE\n",
    "from train import train_loop, loss_infer\n",
    "from data_load import *"
   ]
  },
  {
   "cell_type": "code",
   "execution_count": 2,
   "metadata": {},
   "outputs": [],
   "source": [
    "if torch.cuda.is_available():\n",
    "    device = torch.device(\"cuda:0\")\n",
    "else:\n",
    "    device = torch.device(\"cpu\")"
   ]
  },
  {
   "cell_type": "markdown",
   "metadata": {},
   "source": [
    "## Model Definition and training"
   ]
  },
  {
   "cell_type": "code",
   "execution_count": 3,
   "metadata": {},
   "outputs": [
    {
     "data": {
      "text/plain": [
       "<All keys matched successfully>"
      ]
     },
     "execution_count": 3,
     "metadata": {},
     "output_type": "execute_result"
    }
   ],
   "source": [
    "net = GraphVAE()\n",
    "net.load_state_dict(torch.load(\"Saves/ep_25.pth\"))"
   ]
  },
  {
   "cell_type": "code",
   "execution_count": 4,
   "metadata": {},
   "outputs": [],
   "source": [
    "net = net.to(device)"
   ]
  },
  {
   "cell_type": "code",
   "execution_count": 5,
   "metadata": {},
   "outputs": [
    {
     "name": "stdout",
     "output_type": "stream",
     "text": [
      "Epoch : 1 Loss: 0.0901 E mse: 0.0003 Hit mse: 0.0706\n"
     ]
    }
   ],
   "source": [
    "train_loop(net, 1, 200, 1e-3, device)"
   ]
  },
  {
   "cell_type": "code",
   "execution_count": 4,
   "metadata": {},
   "outputs": [],
   "source": [
    "torch.save(net.state_dict(), \"Saves/L_50k_norand.pth\")"
   ]
  },
  {
   "cell_type": "code",
   "execution_count": 4,
   "metadata": {},
   "outputs": [
    {
     "data": {
      "text/plain": [
       "tensor(0.0100)"
      ]
     },
     "execution_count": 4,
     "metadata": {},
     "output_type": "execute_result"
    }
   ],
   "source": []
  },
  {
   "cell_type": "markdown",
   "metadata": {},
   "source": [
    "## Inference and tests"
   ]
  },
  {
   "cell_type": "code",
   "execution_count": 2,
   "metadata": {},
   "outputs": [],
   "source": [
    "from data_load import get_train_dataset"
   ]
  },
  {
   "cell_type": "code",
   "execution_count": 6,
   "metadata": {},
   "outputs": [],
   "source": [
    "# def reconstruct_img(Y, counts):\n",
    "#     xhit, yhit = Y[:, :, 0], Y[:, :, 1]\n",
    "#     val = Y[:, :, 2]/50.\n",
    "    \n",
    "#     xhit = (xhit % 125).int()\n",
    "#     yhit = (yhit % 125).int()\n",
    "    \n",
    "#     ecal = torch.zeros((Y.shape[0], 125, 125))\n",
    "#     for j in range(Y.shape[0]):\n",
    "#         # Add fancy/optimized indexing later\n",
    "#         for i in range(counts[j]):\n",
    "#             ecal[j, xhit[j, i], yhit[j, i]] += 0.1*(i/counts[j])# val[j, i]\n",
    "    \n",
    "#     return ecal\n",
    "\n",
    "# def loss_infer2(net, x):\n",
    "#     \"\"\"\n",
    "#     Inference loss function\n",
    "#     \"\"\"\n",
    "#     # Graph nodes and edges\n",
    "#     X, A, mask, counts = preprocess(x)\n",
    "#     # Reconstructed nodes and edges\n",
    "#     Y, A2, mu, logvar, L1, L2 = net(X, A, mask)\n",
    "    \n",
    "#     # Convert back to image\n",
    "#     ecal = reconstruct_img(Y, counts)\n",
    "    \n",
    "#     mse = torch.nn.MSELoss()\n",
    "    \n",
    "#     return mse(X, Y), ecal, counts\n",
    "    "
   ]
  },
  {
   "cell_type": "code",
   "execution_count": 4,
   "metadata": {},
   "outputs": [
    {
     "data": {
      "text/plain": [
       "<All keys matched successfully>"
      ]
     },
     "execution_count": 4,
     "metadata": {},
     "output_type": "execute_result"
    }
   ],
   "source": [
    "net = GraphVAE()\n",
    "net.load_state_dict(torch.load(\"Saves/Checkpoints/ep_15.pth\"))"
   ]
  },
  {
   "cell_type": "code",
   "execution_count": 5,
   "metadata": {},
   "outputs": [],
   "source": [
    "dataset = get_train_dataset(600)\n",
    "dataloader = torch.utils.data.DataLoader(dataset, 200, True)"
   ]
  },
  {
   "cell_type": "code",
   "execution_count": 7,
   "metadata": {},
   "outputs": [],
   "source": [
    "for (x,) in dataloader:\n",
    "    img1 = x[:, :, :, 1]\n",
    "    with torch.no_grad():\n",
    "        L, img2, counts = loss_infer2(net, x)\n",
    "    break"
   ]
  },
  {
   "cell_type": "code",
   "execution_count": 8,
   "metadata": {},
   "outputs": [
    {
     "data": {
      "text/plain": [
       "tensor(0.7687)"
      ]
     },
     "execution_count": 8,
     "metadata": {},
     "output_type": "execute_result"
    }
   ],
   "source": [
    "img2.max()"
   ]
  },
  {
   "cell_type": "code",
   "execution_count": 9,
   "metadata": {},
   "outputs": [
    {
     "data": {
      "image/png": "[encoded data removed]",
      "text/plain": [
       "<Figure size 640x480 with 2 Axes>"
      ]
     },
     "metadata": {},
     "output_type": "display_data"
    }
   ],
   "source": [
    "fig, ax = plt.subplots(1, 2)\n",
    "ax[0].imshow(img1[3]*(256))\n",
    "ax[1].imshow(img2[3]*(256))\n",
    "plt.show()"
   ]
  },
  {
   "cell_type": "markdown",
   "metadata": {},
   "source": [
    "## Scratchpad"
   ]
  },
  {
   "cell_type": "code",
   "execution_count": 3,
   "metadata": {},
   "outputs": [
    {
     "data": {
      "text/plain": [
       "numpy.int64"
      ]
     },
     "execution_count": 3,
     "metadata": {},
     "output_type": "execute_result"
    }
   ],
   "source": [
    "type(np.minimum(1000, 1012))"
   ]
  },
  {
   "cell_type": "code",
   "execution_count": 16,
   "metadata": {},
   "outputs": [],
   "source": [
    "x = torch.randn(100, 50, 3)\n",
    "indx = torch.argsort(x[:, :, 2], descending=True)"
   ]
  },
  {
   "cell_type": "code",
   "execution_count": 17,
   "metadata": {},
   "outputs": [],
   "source": [
    "batch, nodes = x.shape[0], x.shape[1]\n",
    "\n",
    "# Change to 1d\n",
    "kappa = nodes*torch.arange(batch).unsqueeze(1)\n",
    "indx2 = torch.flatten(kappa + indx)\n",
    "x2 = torch.flatten(x, 0, 1)[indx2, :].reshape((batch, nodes, 3))"
   ]
  },
  {
   "cell_type": "code",
   "execution_count": 28,
   "metadata": {},
   "outputs": [],
   "source": [
    "A = torch.rand(100, 50, 50)\n",
    "\n",
    "# Get indices to sort dim=1,2 of A\n",
    "indx3 = ((kappa+indx)*torch.arange(nodes)).unsqueeze(2)\n",
    "indx3 = indx3 + indx.unsqueeze(1)\n",
    "# Flatten A, sort, and get it back to shape\n",
    "A = torch.flatten(A)[indx3].reshape(A.shape)"
   ]
  },
  {
   "cell_type": "code",
   "execution_count": 29,
   "metadata": {},
   "outputs": [
    {
     "data": {
      "text/plain": [
       "torch.Size([100, 50, 50])"
      ]
     },
     "execution_count": 29,
     "metadata": {},
     "output_type": "execute_result"
    }
   ],
   "source": [
    "A.shape"
   ]
  },
  {
   "cell_type": "code",
   "execution_count": 8,
   "metadata": {},
   "outputs": [],
   "source": [
    "X, mask = to_dense_batch(G, lengs, fill_value=0, max_num_nodes=1000)\n",
    "A = to_dense_adj(E, lengs, max_num_nodes=1000) # (batch, 1000, 1000)\n"
   ]
  },
  {
   "cell_type": "code",
   "execution_count": 9,
   "metadata": {},
   "outputs": [
    {
     "data": {
      "text/plain": [
       "(torch.Size([2, 1000, 3]), torch.Size([2, 1000, 1000]))"
      ]
     },
     "execution_count": 9,
     "metadata": {},
     "output_type": "execute_result"
    }
   ],
   "source": [
    "X = X\n",
    "A = A\n",
    "X.shape, A.shape"
   ]
  },
  {
   "cell_type": "code",
   "execution_count": 12,
   "metadata": {},
   "outputs": [
    {
     "data": {
      "text/plain": [
       "GraphVAE(\n",
       "  (sage): ModuleList(\n",
       "    (0): DenseSAGEConv(3, 16)\n",
       "    (1): DenseSAGEConv(16, 16)\n",
       "    (2): DenseSAGEConv(16, 3)\n",
       "  )\n",
       "  (drop): ModuleList(\n",
       "    (0): Dropout(p=0.5, inplace=False)\n",
       "    (1): Dropout(p=0.4, inplace=False)\n",
       "    (2): Dropout(p=0.3, inplace=False)\n",
       "  )\n",
       "  (batch_norm): ModuleList(\n",
       "    (0): BatchNorm1d(1000, eps=1e-05, momentum=0.1, affine=True, track_running_stats=True)\n",
       "    (1): BatchNorm1d(500, eps=1e-05, momentum=0.1, affine=True, track_running_stats=True)\n",
       "    (2): BatchNorm1d(250, eps=1e-05, momentum=0.1, affine=True, track_running_stats=True)\n",
       "  )\n",
       "  (pool): ModuleList(\n",
       "    (0): MinCut_Pool(\n",
       "      (linear): Linear(in_features=16, out_features=500, bias=True)\n",
       "    )\n",
       "    (1): MinCut_Pool(\n",
       "      (linear): Linear(in_features=16, out_features=250, bias=True)\n",
       "    )\n",
       "  )\n",
       "  (tr_mu): Linear(in_features=3, out_features=16, bias=True)\n",
       "  (tr_var): Linear(in_features=3, out_features=16, bias=True)\n",
       "  (tr_rev): Linear(in_features=16, out_features=3, bias=True)\n",
       "  (revsage): ModuleList(\n",
       "    (0): DenseSAGEConv(16, 3)\n",
       "    (1): DenseSAGEConv(16, 16)\n",
       "    (2): DenseSAGEConv(3, 16)\n",
       "  )\n",
       ")"
      ]
     },
     "execution_count": 12,
     "metadata": {},
     "output_type": "execute_result"
    }
   ],
   "source": [
    "net = GraphVAE(3, 16, 3)\n",
    "net"
   ]
  },
  {
   "cell_type": "code",
   "execution_count": 42,
   "metadata": {},
   "outputs": [],
   "source": [
    "Z, A, mu, logvar, L1, L2 = net(X, A)"
   ]
  },
  {
   "cell_type": "code",
   "execution_count": 43,
   "metadata": {},
   "outputs": [
    {
     "data": {
      "text/plain": [
       "(torch.Size([2, 1000, 3]), torch.Size([2, 1000, 1000]))"
      ]
     },
     "execution_count": 43,
     "metadata": {},
     "output_type": "execute_result"
    }
   ],
   "source": [
    "Z.shape, A.shape"
   ]
  },
  {
   "cell_type": "code",
   "execution_count": null,
   "metadata": {},
   "outputs": [],
   "source": []
  }
 ],
 "metadata": {
  "kernelspec": {
   "display_name": "torch-geo",
   "language": "python",
   "name": "python3"
  },
  "language_info": {
   "codemirror_mode": {
    "name": "ipython",
    "version": 3
   },
   "file_extension": ".py",
   "mimetype": "text/x-python",
   "name": "python",
   "nbconvert_exporter": "python",
   "pygments_lexer": "ipython3",
   "version": "3.11.5"
  },
  "orig_nbformat": 4
 },
 "nbformat": 4,
 "nbformat_minor": 2
}
