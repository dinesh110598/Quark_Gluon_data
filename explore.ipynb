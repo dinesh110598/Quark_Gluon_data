{
 "cells": [
  {
   "cell_type": "code",
   "execution_count": 1,
   "metadata": {},
   "outputs": [],
   "source": [
    "import numpy as np\n",
    "import h5py as h5\n",
    "import matplotlib.pyplot as plt\n",
    "\n",
    "import torch\n",
    "import torch_geometric\n",
    "import torch.nn as nn\n",
    "import torch.nn.functional as F\n",
    "from torch_geometric import nn as gnn\n",
    "\n",
    "from graph_vae import GraphVAE\n",
    "from train import train_loop2\n",
    "from data_load import *"
   ]
  },
  {
   "cell_type": "code",
   "execution_count": 2,
   "metadata": {},
   "outputs": [],
   "source": [
    "if torch.cuda.is_available():\n",
    "    device = torch.device(\"cuda:0\")\n",
    "else:\n",
    "    device = torch.device(\"cpu\")"
   ]
  },
  {
   "cell_type": "markdown",
   "metadata": {},
   "source": [
    "## Scratchpad"
   ]
  },
  {
   "cell_type": "code",
   "execution_count": 6,
   "metadata": {},
   "outputs": [
    {
     "name": "stdout",
     "output_type": "stream",
     "text": [
      "tensor(True)\n",
      "tensor(True)\n"
     ]
    }
   ],
   "source": [
    "d = torch.randn(10)\n",
    "d_diag = torch.diag_embed(d)\n",
    "M = torch.randn(10, 10)\n",
    "\n",
    "print(torch.all(d.unsqueeze(1)*M == torch.matmul(d_diag, M)))\n",
    "print(torch.all(M * d == torch.matmul(M, d_diag)))"
   ]
  },
  {
   "cell_type": "code",
   "execution_count": 6,
   "metadata": {},
   "outputs": [],
   "source": [
    "dataset = get_train_dataset()\n",
    "data_loader = torch.utils.data.DataLoader(dataset, 200, True)"
   ]
  },
  {
   "cell_type": "code",
   "execution_count": 18,
   "metadata": {},
   "outputs": [
    {
     "name": "stdout",
     "output_type": "stream",
     "text": [
      "tensor(0.8951)\n",
      "tensor(0.9118)\n",
      "tensor(0.9004)\n",
      "tensor(0.8894)\n",
      "tensor(0.8476)\n",
      "tensor(0.9631)\n",
      "tensor(0.8371)\n",
      "tensor(1.0133)\n",
      "tensor(0.8952)\n",
      "tensor(0.9213)\n",
      "tensor(0.8329)\n",
      "tensor(0.8558)\n",
      "tensor(0.9442)\n",
      "tensor(0.8626)\n",
      "tensor(0.8884)\n",
      "tensor(0.9379)\n",
      "tensor(0.8939)\n",
      "tensor(0.8558)\n",
      "tensor(1.1926)\n",
      "tensor(0.9205)\n",
      "tensor(0.9311)\n",
      "tensor(0.8475)\n",
      "tensor(0.9733)\n",
      "tensor(1.0340)\n",
      "tensor(0.8867)\n",
      "tensor(0.8736)\n",
      "tensor(0.8699)\n",
      "tensor(0.9059)\n",
      "tensor(0.9021)\n",
      "tensor(0.8803)\n",
      "tensor(0.8987)\n",
      "tensor(0.9044)\n",
      "tensor(1.0155)\n",
      "tensor(0.9302)\n",
      "tensor(0.9912)\n",
      "tensor(1.0871)\n",
      "tensor(0.9920)\n",
      "tensor(0.9254)\n",
      "tensor(0.9718)\n",
      "tensor(0.9681)\n",
      "tensor(0.9595)\n",
      "tensor(0.9228)\n",
      "tensor(0.8817)\n",
      "tensor(0.8920)\n",
      "tensor(0.9043)\n",
      "tensor(1.0227)\n",
      "tensor(0.9477)\n",
      "tensor(0.8980)\n",
      "tensor(1.2631)\n",
      "tensor(0.9206)\n",
      "tensor(0.8822)\n",
      "tensor(0.8873)\n",
      "tensor(0.8166)\n",
      "tensor(0.8116)\n",
      "tensor(0.9536)\n",
      "tensor(1.2312)\n",
      "tensor(0.8409)\n",
      "tensor(0.9117)\n",
      "tensor(0.8505)\n",
      "tensor(0.9070)\n",
      "tensor(0.9140)\n",
      "tensor(0.8872)\n",
      "tensor(0.8432)\n",
      "tensor(0.9075)\n",
      "tensor(0.9113)\n",
      "tensor(0.8508)\n",
      "tensor(1.0221)\n",
      "tensor(0.8749)\n",
      "tensor(1.0153)\n",
      "tensor(0.8700)\n",
      "tensor(0.9395)\n",
      "tensor(0.8875)\n",
      "tensor(0.8758)\n",
      "tensor(0.9563)\n",
      "tensor(0.9622)\n",
      "tensor(0.9016)\n",
      "tensor(0.8822)\n",
      "tensor(0.8075)\n",
      "tensor(0.9127)\n",
      "tensor(0.9923)\n",
      "tensor(0.8153)\n",
      "tensor(0.9186)\n",
      "tensor(0.9276)\n",
      "tensor(0.9409)\n",
      "tensor(0.9684)\n",
      "tensor(0.9285)\n",
      "tensor(0.8307)\n",
      "tensor(0.9584)\n",
      "tensor(1.2779)\n",
      "tensor(1.0155)\n",
      "tensor(0.9690)\n",
      "tensor(0.9660)\n",
      "tensor(0.9169)\n",
      "tensor(0.8799)\n",
      "tensor(0.9015)\n",
      "tensor(0.9541)\n",
      "tensor(0.9859)\n",
      "tensor(0.9733)\n",
      "tensor(0.9041)\n",
      "tensor(0.8115)\n",
      "tensor(0.9000)\n",
      "tensor(0.8998)\n",
      "tensor(0.9141)\n",
      "tensor(0.9143)\n",
      "tensor(0.9195)\n",
      "tensor(0.8959)\n",
      "tensor(0.8197)\n",
      "tensor(0.8970)\n",
      "tensor(0.8833)\n",
      "tensor(0.9090)\n",
      "tensor(1.2498)\n",
      "tensor(0.9213)\n",
      "tensor(0.8579)\n",
      "tensor(0.9881)\n",
      "tensor(1.1530)\n",
      "tensor(0.9677)\n",
      "tensor(0.8657)\n",
      "tensor(0.8813)\n",
      "tensor(0.8738)\n",
      "tensor(0.8665)\n",
      "tensor(0.8671)\n",
      "tensor(0.8610)\n",
      "tensor(0.8925)\n",
      "tensor(0.9770)\n",
      "tensor(0.8606)\n",
      "tensor(0.8683)\n",
      "tensor(0.9006)\n",
      "tensor(0.8661)\n",
      "tensor(0.9673)\n",
      "tensor(0.9438)\n",
      "tensor(0.8961)\n",
      "tensor(0.9181)\n",
      "tensor(0.9837)\n",
      "tensor(0.9114)\n",
      "tensor(0.9291)\n",
      "tensor(0.8835)\n",
      "tensor(0.9046)\n",
      "tensor(1.0555)\n",
      "tensor(0.8198)\n",
      "tensor(0.8658)\n",
      "tensor(0.8691)\n",
      "tensor(1.0092)\n",
      "tensor(0.8549)\n",
      "tensor(1.2349)\n",
      "tensor(0.9248)\n",
      "tensor(0.9233)\n",
      "tensor(0.8795)\n",
      "tensor(0.9675)\n",
      "tensor(0.9012)\n",
      "tensor(0.9161)\n",
      "tensor(0.9127)\n",
      "tensor(0.8269)\n",
      "tensor(0.8555)\n",
      "tensor(1.0798)\n",
      "tensor(0.8814)\n",
      "tensor(0.9038)\n",
      "tensor(1.0110)\n",
      "tensor(0.9713)\n",
      "tensor(0.8990)\n",
      "tensor(0.9193)\n",
      "tensor(0.8136)\n",
      "tensor(0.9294)\n",
      "tensor(0.9789)\n",
      "tensor(0.8933)\n",
      "tensor(0.9300)\n",
      "tensor(0.8555)\n",
      "tensor(0.8862)\n",
      "tensor(1.2067)\n",
      "tensor(0.8851)\n",
      "tensor(0.8871)\n",
      "tensor(0.8559)\n",
      "tensor(0.8550)\n",
      "tensor(0.8931)\n",
      "tensor(1.0137)\n",
      "tensor(0.9091)\n",
      "tensor(0.8945)\n",
      "tensor(0.9244)\n",
      "tensor(0.8740)\n",
      "tensor(0.8591)\n",
      "tensor(0.8517)\n",
      "tensor(1.0278)\n",
      "tensor(0.8893)\n",
      "tensor(0.9195)\n",
      "tensor(0.9266)\n",
      "tensor(0.8802)\n",
      "tensor(0.9020)\n",
      "tensor(0.8619)\n",
      "tensor(0.9859)\n",
      "tensor(0.9595)\n",
      "tensor(0.9043)\n",
      "tensor(1.0446)\n",
      "tensor(0.9116)\n",
      "tensor(0.8248)\n",
      "tensor(0.9065)\n",
      "tensor(0.7937)\n",
      "tensor(0.8863)\n",
      "tensor(0.8656)\n",
      "tensor(1.0949)\n",
      "tensor(0.8400)\n",
      "tensor(0.8809)\n",
      "tensor(0.8964)\n",
      "tensor(0.8957)\n",
      "tensor(0.9127)\n",
      "tensor(0.8815)\n",
      "tensor(0.8895)\n",
      "tensor(0.9150)\n",
      "tensor(0.9294)\n",
      "tensor(0.8981)\n",
      "tensor(0.9232)\n",
      "tensor(0.9532)\n",
      "tensor(1.0232)\n",
      "tensor(0.8381)\n",
      "tensor(0.8559)\n",
      "tensor(0.9568)\n",
      "tensor(1.3263)\n",
      "tensor(0.9435)\n",
      "tensor(0.8717)\n",
      "tensor(0.8938)\n",
      "tensor(0.9427)\n",
      "tensor(0.9212)\n",
      "tensor(0.9071)\n",
      "tensor(0.9943)\n",
      "tensor(1.2565)\n",
      "tensor(0.8312)\n",
      "tensor(0.8376)\n",
      "tensor(0.9208)\n",
      "tensor(0.9835)\n",
      "tensor(0.8449)\n",
      "tensor(0.9496)\n",
      "tensor(0.9627)\n",
      "tensor(0.9290)\n",
      "tensor(0.9043)\n",
      "tensor(0.9219)\n",
      "tensor(0.8760)\n",
      "tensor(0.8255)\n",
      "tensor(0.8688)\n",
      "tensor(0.9758)\n",
      "tensor(0.9444)\n",
      "tensor(0.8500)\n",
      "tensor(0.8989)\n",
      "tensor(0.8774)\n",
      "tensor(0.8604)\n",
      "tensor(0.8792)\n",
      "tensor(0.9664)\n",
      "tensor(0.8625)\n",
      "tensor(0.8637)\n",
      "tensor(0.9680)\n",
      "tensor(0.8567)\n",
      "tensor(0.8763)\n",
      "tensor(0.8645)\n"
     ]
    }
   ],
   "source": [
    "for (X, NL, mask) in data_loader:\n",
    "    A = eval_A(NL.int())*mask.unsqueeze(2)\n",
    "    print(X[:, :, -1].max())"
   ]
  },
  {
   "cell_type": "code",
   "execution_count": 10,
   "metadata": {},
   "outputs": [
    {
     "name": "stdout",
     "output_type": "stream",
     "text": [
      "\u001b[0;31mDocstring:\u001b[0m\n",
      "min(input) -> Tensor\n",
      "\n",
      "Returns the minimum value of all elements in the :attr:`input` tensor.\n",
      "\n",
      ".. warning::\n",
      "    This function produces deterministic (sub)gradients unlike ``min(dim=0)``\n",
      "\n",
      "Args:\n",
      "    input (Tensor): the input tensor.\n",
      "\n",
      "Example::\n",
      "\n",
      "    >>> a = torch.randn(1, 3)\n",
      "    >>> a\n",
      "    tensor([[ 0.6750,  1.0857,  1.7197]])\n",
      "    >>> torch.min(a)\n",
      "    tensor(0.6750)\n",
      "\n",
      ".. function:: min(input, dim, keepdim=False, *, out=None) -> (Tensor, LongTensor)\n",
      "   :noindex:\n",
      "\n",
      "Returns a namedtuple ``(values, indices)`` where ``values`` is the minimum\n",
      "value of each row of the :attr:`input` tensor in the given dimension\n",
      ":attr:`dim`. And ``indices`` is the index location of each minimum value found\n",
      "(argmin).\n",
      "\n",
      "If :attr:`keepdim` is ``True``, the output tensors are of the same size as\n",
      ":attr:`input` except in the dimension :attr:`dim` where they are of size 1.\n",
      "Otherwise, :attr:`dim` is squeezed (see :func:`torch.squeeze`), resulting in\n",
      "the output tensors having 1 fewer dimension than :attr:`input`.\n",
      "\n",
      ".. note:: If there are multiple minimal values in a reduced row then\n",
      "          the indices of the first minimal value are returned.\n",
      "\n",
      "Args:\n",
      "    input (Tensor): the input tensor.\n",
      "    dim (int): the dimension to reduce.\n",
      "    keepdim (bool): whether the output tensor has :attr:`dim` retained or not.\n",
      "\n",
      "Keyword args:\n",
      "    out (tuple, optional): the tuple of two output tensors (min, min_indices)\n",
      "\n",
      "Example::\n",
      "\n",
      "    >>> a = torch.randn(4, 4)\n",
      "    >>> a\n",
      "    tensor([[-0.6248,  1.1334, -1.1899, -0.2803],\n",
      "            [-1.4644, -0.2635, -0.3651,  0.6134],\n",
      "            [ 0.2457,  0.0384,  1.0128,  0.7015],\n",
      "            [-0.1153,  2.9849,  2.1458,  0.5788]])\n",
      "    >>> torch.min(a, 1)\n",
      "    torch.return_types.min(values=tensor([-1.1899, -1.4644,  0.0384, -0.1153]), indices=tensor([2, 0, 1, 0]))\n",
      "\n",
      ".. function:: min(input, other, *, out=None) -> Tensor\n",
      "   :noindex:\n",
      "\n",
      "See :func:`torch.minimum`.\n",
      "\u001b[0;31mType:\u001b[0m      builtin_function_or_method"
     ]
    }
   ],
   "source": [
    "? torch.min"
   ]
  },
  {
   "cell_type": "markdown",
   "metadata": {},
   "source": [
    "## Model Definition and training"
   ]
  },
  {
   "cell_type": "code",
   "execution_count": 3,
   "metadata": {},
   "outputs": [],
   "source": [
    "net = GraphVAE(400, 3)\n",
    "# net.load_state_dict(torch.load(\"Saves/ecal_ep_60.pth\"))"
   ]
  },
  {
   "cell_type": "code",
   "execution_count": 15,
   "metadata": {},
   "outputs": [
    {
     "name": "stdout",
     "output_type": "stream",
     "text": [
      "Epoch : 1 Loss: 0.05801 E mse: 0.00026 Hit mse: 0.00146 L2: 2.58713\n",
      "Epoch : 2 Loss: 0.05800 E mse: 0.00026 Hit mse: 0.00146 L2: 2.58713\n",
      "Epoch : 3 Loss: 0.05798 E mse: 0.00026 Hit mse: 0.00145 L2: 2.58713\n",
      "Epoch : 4 Loss: 0.05798 E mse: 0.00026 Hit mse: 0.00146 L2: 2.58713\n",
      "Epoch : 5 Loss: 0.05798 E mse: 0.00026 Hit mse: 0.00145 L2: 2.58713\n",
      "Epoch : 6 Loss: 0.05796 E mse: 0.00026 Hit mse: 0.00145 L2: 2.58713\n",
      "Epoch : 7 Loss: 0.05795 E mse: 0.00026 Hit mse: 0.00145 L2: 2.58713\n",
      "Epoch : 8 Loss: 0.05794 E mse: 0.00026 Hit mse: 0.00145 L2: 2.58713\n",
      "Epoch : 9 Loss: 0.05794 E mse: 0.00026 Hit mse: 0.00146 L2: 2.58713\n",
      "Epoch : 10 Loss: 0.05793 E mse: 0.00026 Hit mse: 0.00146 L2: 2.58713\n",
      "Epoch : 11 Loss: 0.05792 E mse: 0.00026 Hit mse: 0.00146 L2: 2.58713\n",
      "Epoch : 12 Loss: 0.05790 E mse: 0.00026 Hit mse: 0.00145 L2: 2.58712\n",
      "Epoch : 13 Loss: 0.05791 E mse: 0.00026 Hit mse: 0.00145 L2: 2.58713\n",
      "Epoch : 14 Loss: 0.05789 E mse: 0.00026 Hit mse: 0.00145 L2: 2.58712\n",
      "Epoch : 15 Loss: 0.05789 E mse: 0.00026 Hit mse: 0.00146 L2: 2.58712\n",
      "Epoch : 16 Loss: 0.05788 E mse: 0.00026 Hit mse: 0.00145 L2: 2.58712\n",
      "Epoch : 17 Loss: 0.05788 E mse: 0.00026 Hit mse: 0.00146 L2: 2.58712\n",
      "Epoch : 18 Loss: 0.05787 E mse: 0.00026 Hit mse: 0.00145 L2: 2.58712\n",
      "Epoch : 19 Loss: 0.05905 E mse: 0.00029 Hit mse: 0.00202 L2: 2.58720\n",
      "Epoch : 20 Loss: 0.05804 E mse: 0.00026 Hit mse: 0.00149 L2: 2.58716\n",
      "Epoch : 21 Loss: 0.05792 E mse: 0.00025 Hit mse: 0.00145 L2: 2.58713\n",
      "Epoch : 22 Loss: 0.05789 E mse: 0.00025 Hit mse: 0.00145 L2: 2.58712\n",
      "Epoch : 23 Loss: 0.05787 E mse: 0.00025 Hit mse: 0.00145 L2: 2.58712\n",
      "Epoch : 24 Loss: 0.05786 E mse: 0.00025 Hit mse: 0.00145 L2: 2.58712\n",
      "Epoch : 25 Loss: 0.05787 E mse: 0.00025 Hit mse: 0.00146 L2: 2.58712\n",
      "Epoch : 26 Loss: 0.05785 E mse: 0.00026 Hit mse: 0.00145 L2: 2.58712\n",
      "Epoch : 27 Loss: 0.05785 E mse: 0.00025 Hit mse: 0.00145 L2: 2.58712\n",
      "Epoch : 28 Loss: 0.05784 E mse: 0.00026 Hit mse: 0.00145 L2: 2.58712\n",
      "Epoch : 29 Loss: 0.05783 E mse: 0.00025 Hit mse: 0.00145 L2: 2.58712\n",
      "Epoch : 30 Loss: 0.05782 E mse: 0.00025 Hit mse: 0.00145 L2: 2.58712\n"
     ]
    }
   ],
   "source": [
    "train_loop2(net, 30, 200, 5e-4, device)"
   ]
  },
  {
   "cell_type": "code",
   "execution_count": 16,
   "metadata": {},
   "outputs": [],
   "source": [
    "torch.save(net.state_dict(), \"Saves/ecal_ep_60_r0.1.pth\")"
   ]
  },
  {
   "cell_type": "code",
   "execution_count": 4,
   "metadata": {},
   "outputs": [
    {
     "data": {
      "text/plain": [
       "tensor(0.0100)"
      ]
     },
     "execution_count": 4,
     "metadata": {},
     "output_type": "execute_result"
    }
   ],
   "source": []
  },
  {
   "cell_type": "markdown",
   "metadata": {},
   "source": [
    "## Inference and tests"
   ]
  },
  {
   "cell_type": "code",
   "execution_count": 9,
   "metadata": {},
   "outputs": [],
   "source": [
    "def reconstruct_img3(Y, mask):\n",
    "    xhit, yhit = Y[:, :, 0]*125, Y[:, :, 1]*125\n",
    "    val = Y[:, :, 2]/50.\n",
    "    \n",
    "    xhit = (xhit % 125).int()\n",
    "    yhit = (yhit % 125).int()\n",
    "    \n",
    "    mask = mask*torch.arange(1, 0, -1./400)**2\n",
    "    # mask = mask*torch.exp(-torch.arange(400))\n",
    "    ecal = torch.zeros((Y.shape[0], 125, 125))\n",
    "    ecal[\n",
    "        torch.arange(Y.shape[0]).unsqueeze(1),\n",
    "        xhit,\n",
    "        yhit\n",
    "    ] = mask #*val\n",
    "    \n",
    "    return ecal\n",
    "\n",
    "def reconstruct_img2(Y, mask):\n",
    "    xhit, yhit = (Y[:, :, 0])*125, (Y[:, :, 1])*125\n",
    "    ener = Y[:, :, 2]\n",
    "    \n",
    "    xhit = (xhit % 125).int()\n",
    "    yhit = (yhit % 125).int()\n",
    "    \n",
    "    ecal = torch.zeros((Y.shape[0], 125, 125))\n",
    "    ecal[\n",
    "        torch.arange(Y.shape[0]).unsqueeze(1),\n",
    "        xhit,\n",
    "        yhit\n",
    "    ] = mask*ener\n",
    "    \n",
    "    return ecal\n",
    "\n",
    "def loss_infer2(net, X, A, mask):\n",
    "    \"\"\"\n",
    "    Inference loss function\n",
    "    \"\"\"\n",
    "    # Reconstructed nodes and edges\n",
    "    Y, A2, mu, logvar, L1, L2 = net(X, A, mask)\n",
    "    # Convert back to image\n",
    "    ecal = reconstruct_img2(Y, mask)\n",
    "    \n",
    "    mse = torch.nn.MSELoss()\n",
    "    return mse(X, Y), ecal, A2"
   ]
  },
  {
   "cell_type": "code",
   "execution_count": 4,
   "metadata": {},
   "outputs": [
    {
     "data": {
      "text/plain": [
       "<All keys matched successfully>"
      ]
     },
     "execution_count": 4,
     "metadata": {},
     "output_type": "execute_result"
    }
   ],
   "source": [
    "net = GraphVAE(400, 3)\n",
    "net.load_state_dict(torch.load(\"Saves/Checkpoints/ep_58.pth\"))"
   ]
  },
  {
   "cell_type": "code",
   "execution_count": 10,
   "metadata": {},
   "outputs": [],
   "source": [
    "dataset = get_train_dataset()\n",
    "data_loader = torch.utils.data.DataLoader(dataset, 200, True)"
   ]
  },
  {
   "cell_type": "code",
   "execution_count": 11,
   "metadata": {},
   "outputs": [],
   "source": [
    "for (X, NL, mask) in data_loader:\n",
    "    X = X\n",
    "    A = eval_A(NL.int()) * mask.unsqueeze(2)\n",
    "    mask = mask\n",
    "    with torch.no_grad():\n",
    "        # Original samples\n",
    "        img1 = reconstruct_img2(X, mask)\n",
    "        # VAE-generated samples\n",
    "        L, img2, A2 = loss_infer2(net, X, A, mask)\n",
    "    break"
   ]
  },
  {
   "cell_type": "code",
   "execution_count": 12,
   "metadata": {},
   "outputs": [
    {
     "data": {
      "text/plain": [
       "(tensor(0.8118), tensor(0.9754))"
      ]
     },
     "execution_count": 12,
     "metadata": {},
     "output_type": "execute_result"
    }
   ],
   "source": [
    "img2.max(), img1.max()"
   ]
  },
  {
   "cell_type": "code",
   "execution_count": 13,
   "metadata": {},
   "outputs": [
    {
     "data": {
      "image/png": "[encoded data removed]",
      "text/plain": [
       "<Figure size 640x480 with 2 Axes>"
      ]
     },
     "metadata": {},
     "output_type": "display_data"
    }
   ],
   "source": [
    "fig, ax = plt.subplots(1, 2)\n",
    "ax[0].imshow(img1[5])\n",
    "ax[1].imshow(img2[5])\n",
    "plt.show()\n",
    "\n",
    "# plt.savefig('Report/Figures/Gluon_reconstructed.pdf')"
   ]
  },
  {
   "cell_type": "markdown",
   "metadata": {},
   "source": [
    "## Dataset generation"
   ]
  },
  {
   "cell_type": "code",
   "execution_count": 3,
   "metadata": {},
   "outputs": [
    {
     "name": "stdout",
     "output_type": "stream",
     "text": [
      "50000\n"
     ]
    }
   ],
   "source": [
    "with h5.File('quark_jets_ecal.h5', 'w') as g:\n",
    "    f = h5.File('quark-gluon_data-set_n139306.hdf5', 'r')\n",
    "    \n",
    "    dset = g.create_dataset('x', shape=(0, 125, 125, 3), dtype=np.float32,\n",
    "                            maxshape=(None, 125, 125, 3))\n",
    "    L = 100_000\n",
    "    w = 10_000\n",
    "\n",
    "    for i in range(10):\n",
    "        x, y = f['X_jets'][i*w: (i+1)*w], f['y'][i*w: (i+1)*w]\n",
    "        x, y = torch.from_numpy(x), torch.from_numpy(y)\n",
    "        (ind_0,) = torch.nonzero(y==0, as_tuple=True)\n",
    "        x = x[ind_0]\n",
    "        curr_shape = dset.shape[0]\n",
    "        dset.resize((curr_shape+x.shape[0], 125, 125, 3))\n",
    "        dset[curr_shape:, :, :] = x\n",
    "    print(dset.shape[0])\n",
    "    f.close()"
   ]
  },
  {
   "cell_type": "code",
   "execution_count": 20,
   "metadata": {},
   "outputs": [
    {
     "data": {
      "text/plain": [
       "tensor([-6.9078,  0.0000, -2.3026,  0.1823])"
      ]
     },
     "execution_count": 20,
     "metadata": {},
     "output_type": "execute_result"
    }
   ],
   "source": [
    "x = torch.FloatTensor(\n",
    "    [1e-3, 0., 0.1, 1.2]\n",
    ")\n",
    "x2 = torch.nan_to_num(x.log(), neginf=0.)\n",
    "x2"
   ]
  },
  {
   "cell_type": "code",
   "execution_count": 12,
   "metadata": {},
   "outputs": [
    {
     "name": "stdout",
     "output_type": "stream",
     "text": [
      "50000\n"
     ]
    }
   ],
   "source": [
    "with h5.File('gluon_jets_ecal.h5', 'w') as g:\n",
    "    f = h5.File('quark-gluon_data-set_n139306.hdf5', 'r')\n",
    "    \n",
    "    dset = g.create_dataset('x', shape=(0, 125, 125, 3), dtype=np.float32,\n",
    "                            maxshape=(None, 125, 125, 3))\n",
    "    L = 100_000\n",
    "    w = 10_000\n",
    "\n",
    "    for i in range(10):\n",
    "        x, y = f['X_jets'][i*w: (i+1)*w], f['y'][i*w: (i+1)*w]\n",
    "        x, y = torch.from_numpy(x), torch.from_numpy(y)\n",
    "        (ind_0,) = torch.nonzero(y==1, as_tuple=True)\n",
    "        x = x[ind_0]\n",
    "        curr_shape = dset.shape[0]\n",
    "        dset.resize((curr_shape+x.shape[0], 125, 125, 3))\n",
    "        dset[curr_shape:, :, :] = x\n",
    "    print(dset.shape[0])\n",
    "    f.close()"
   ]
  },
  {
   "cell_type": "markdown",
   "metadata": {},
   "source": [
    "This generates a 3-channel heavy-duty dataset"
   ]
  },
  {
   "cell_type": "code",
   "execution_count": 2,
   "metadata": {},
   "outputs": [],
   "source": [
    "# with h5.File('quark_jets_ecal.h5') as g:\n",
    "#     with h5.File('quark_3chan_graph.h5', 'w') as h:\n",
    "#         X_dset = h.create_dataset('X', shape=(0, 1000, 4), dtype=np.float32,\n",
    "#                             maxshape=(None, 1000, 4))\n",
    "#         A_dset = h.create_dataset('A', shape=(0, 1000, 1000), dtype=np.float32,\n",
    "#                             maxshape=(None, 1000, 1000))\n",
    "#         mask_dset = h.create_dataset('mask', shape=(0, 1000), dtype=np.float32,\n",
    "#                             maxshape=(None, 1000))\n",
    "        \n",
    "#         device = torch.device(\"cpu\")\n",
    "#         w = 2000\n",
    "#         for i in range(25):\n",
    "#             x = g['x'][i*w: (i+1)*w]\n",
    "#             x = torch.from_numpy(x).to(device)\n",
    "#             X, A, mask, _ = preprocess(x, device)\n",
    "            \n",
    "#             curr_shape = X_dset.shape[0]\n",
    "                \n",
    "#             X_dset.resize((curr_shape+w, 1000, 4))\n",
    "#             A_dset.resize((curr_shape+w, 1000, 1000))\n",
    "#             mask_dset.resize((curr_shape+w, 1000))\n",
    "            \n",
    "#             X_dset[curr_shape:, :, :] = X.to(\"cpu\").numpy()\n",
    "#             A_dset[curr_shape:, :, :] = A.to(\"cpu\").numpy()\n",
    "#             mask_dset[curr_shape:, :] = mask.to(\"cpu\").numpy()"
   ]
  },
  {
   "cell_type": "markdown",
   "metadata": {},
   "source": [
    "This generates a smaller single channel dataset"
   ]
  },
  {
   "cell_type": "code",
   "execution_count": 15,
   "metadata": {},
   "outputs": [
    {
     "name": "stdout",
     "output_type": "stream",
     "text": [
      "tensor(0.1998)\n",
      "tensor(0.1991)\n",
      "tensor(0.1995)\n",
      "tensor(0.1999)\n",
      "tensor(0.1998)\n",
      "tensor(0.1990)\n",
      "tensor(0.2000)\n",
      "tensor(0.1999)\n",
      "tensor(0.1997)\n",
      "tensor(0.1999)\n",
      "tensor(0.1998)\n",
      "tensor(0.2000)\n",
      "tensor(0.2000)\n",
      "tensor(0.1990)\n",
      "tensor(0.2000)\n",
      "tensor(0.1999)\n",
      "tensor(0.1998)\n",
      "tensor(0.1999)\n",
      "tensor(0.2000)\n",
      "tensor(0.1998)\n",
      "tensor(0.1996)\n",
      "tensor(0.1997)\n",
      "tensor(0.1997)\n",
      "tensor(0.1997)\n",
      "tensor(0.1999)\n"
     ]
    }
   ],
   "source": [
    "with h5.File('quark_jets_ecal.h5') as g:\n",
    "    with h5.File('quark_ecal_graph.h5', 'w') as h:\n",
    "        X_dset = h.create_dataset('X', shape=(0, 400, 3), dtype=np.float32,\n",
    "                            maxshape=(None, 400, 3), compression=\"gzip\")\n",
    "        NL_dset = h.create_dataset('NL', shape=(0, 400, 6), dtype=np.float32,\n",
    "                            maxshape=(None, 400, 6), compression=\"gzip\")\n",
    "        mask_dset = h.create_dataset('mask', shape=(0, 400), dtype=np.float32,\n",
    "                            maxshape=(None, 400), compression=\"gzip\")\n",
    "        \n",
    "        device = \"cpu\"\n",
    "        w = 2000\n",
    "        for i in range(25):\n",
    "            x = g['x'][i*w: (i+1)*w]\n",
    "            x = torch.from_numpy(x)[:, :, :, 1].to(device)\n",
    "            x[x < 1e-3] = 0\n",
    "            x[x > 0.2] = 0\n",
    "            \n",
    "            X, A, mask, _ = preprocess(x, device)\n",
    "            \n",
    "            NL = torch.argsort(A, 1, True)[:, :6, :].int().permute(0, 2, 1)\n",
    "            \n",
    "            curr_shape = X_dset.shape[0]\n",
    "            X_dset.resize((curr_shape+w, 400, 3))\n",
    "            NL_dset.resize((curr_shape+w, 400, 6))\n",
    "            mask_dset.resize((curr_shape+w, 400))\n",
    "            \n",
    "            X_dset[curr_shape:, :, :] = X.to(\"cpu\").numpy()\n",
    "            NL_dset[curr_shape:, :, :] = NL.to(\"cpu\").numpy()\n",
    "            mask_dset[curr_shape:, :] = mask.float().to(\"cpu\").numpy()\n",
    "            "
   ]
  },
  {
   "cell_type": "code",
   "execution_count": 16,
   "metadata": {},
   "outputs": [
    {
     "name": "stdout",
     "output_type": "stream",
     "text": [
      "tensor(0.9997) tensor(0.)\n",
      "tensor(0.9999) tensor(0.)\n",
      "tensor(0.9999) tensor(0.)\n",
      "tensor(0.9999) tensor(0.)\n",
      "tensor(0.9997) tensor(0.)\n"
     ]
    }
   ],
   "source": [
    "# Check minimum and maximum energies\n",
    "with h5.File('quark_ecal_graph_normalized.h5') as g:\n",
    "    device = \"cpu\"\n",
    "    w = 10_000\n",
    "    # bins = np.linspace(-6.908, 1.4125, 12)\n",
    "    # hist = np.zeros(bins.shape[0] - 1)\n",
    "    for i in range(5):\n",
    "        X = g['X'][i*w: (i+1)*w]\n",
    "        mask = torch.from_numpy(g['mask'][i*w: (i+1)*w])\n",
    "        counts = mask.sum(1).int()\n",
    "        # Studying the typical energies\n",
    "        E_hit = torch.from_numpy(X[:, :, 2])\n",
    "        X_hit = torch.from_numpy(X[:, :, :2])\n",
    "        # log_E_hit = torch.nan_to_num(torch.log(E_hit), neginf=0.)\n",
    "        \n",
    "        # log_E_hit_mean = (log_E_hit.sum(1)/counts).unsqueeze(1)\n",
    "        # # print(log_E_hit.shape, log_E_hit_mean.shape, mask.shape)\n",
    "        # log_E_hit_var = (((log_E_hit - log_E_hit_mean)*mask)**2).sum(1)/counts\n",
    "        \n",
    "        # print(\"Mean log_E: \", log_E_hit_mean.mean(), \n",
    "        #       \"Std log_E: \", log_E_hit_var.sqrt().mean())\n",
    "        print(E_hit.max(), E_hit.min())\n",
    "        # for j in range(w):\n",
    "        #     hist += np.histogram(log_E_hit[j, :counts[j]], bins)[0]"
   ]
  },
  {
   "cell_type": "code",
   "execution_count": 21,
   "metadata": {},
   "outputs": [
    {
     "name": "stdout",
     "output_type": "stream",
     "text": [
      "[-3.12595455 -2.36954545 -1.61313636 -0.85672727 -0.10031818  0.65609091\n",
      "  1.4125    ]\n",
      "[7.1894e+04 2.3778e+04 5.4970e+03 7.7800e+02 6.2000e+01 1.9000e+01]\n"
     ]
    }
   ],
   "source": [
    "print(bins[-7:])\n",
    "print(hist[-6:])"
   ]
  },
  {
   "cell_type": "code",
   "execution_count": 15,
   "metadata": {},
   "outputs": [
    {
     "data": {
      "image/png": "[encoded data removed]",
      "text/plain": [
       "<Figure size 640x480 with 1 Axes>"
      ]
     },
     "metadata": {},
     "output_type": "display_data"
    }
   ],
   "source": [
    "# Plotting the histogram of log energies\n",
    "plt.bar(bins[:-1], hist)\n",
    "plt.show()"
   ]
  },
  {
   "cell_type": "code",
   "execution_count": 13,
   "metadata": {},
   "outputs": [
    {
     "name": "stdout",
     "output_type": "stream",
     "text": [
      "-3.285641521180462\n",
      "3.622113757801675\n"
     ]
    }
   ],
   "source": [
    "print(0.5*(np.log(1.4) + np.log(1e-3)))\n",
    "print(0.5*(np.log(1.4) - np.log(1e-3)))"
   ]
  },
  {
   "cell_type": "code",
   "execution_count": 11,
   "metadata": {},
   "outputs": [],
   "source": [
    "with h5.File('quark_ecal_graph.h5') as g:\n",
    "    with h5.File('quark_ecal_graph_normalized.h5', 'w') as h:\n",
    "        X_dset = h.create_dataset('X', shape=(0, 400, 3), dtype=np.float32,\n",
    "                            maxshape=(None, 400, 3), compression=\"gzip\")\n",
    "        NL_dset = h.create_dataset('NL', shape=(0, 400, 6), dtype=np.float32,\n",
    "                            maxshape=(None, 400, 6), compression=\"gzip\")\n",
    "        mask_dset = h.create_dataset('mask', shape=(0, 400), dtype=np.float32,\n",
    "                            maxshape=(None, 400), compression=\"gzip\")\n",
    "        \n",
    "        device = \"cpu\"\n",
    "        w = 2000\n",
    "        for i in range(25):\n",
    "            X = g['X'][i*w: (i+1)*w]\n",
    "            NL = g['NL'][i*w: (i+1)*w]\n",
    "            mask = g['mask'][i*w: (i+1)*w]\n",
    "            \n",
    "            X = torch.from_numpy(X)            \n",
    "            X[:, :, :2] = X[:, :, :2]/124 # Pixels in (0, 1) range\n",
    "            X[:, :, 2] = X[:, :, 2]*5 # Energies in (0, 1) range\n",
    "            \n",
    "            curr_shape = X_dset.shape[0]\n",
    "            \n",
    "            X_dset.resize((curr_shape+w, 400, 3))\n",
    "            NL_dset.resize((curr_shape+w, 400, 6))\n",
    "            mask_dset.resize((curr_shape+w, 400))\n",
    "            \n",
    "            X_dset[curr_shape:, :, :] = X.to(\"cpu\").numpy()\n",
    "            NL_dset[curr_shape:, :, :] = NL\n",
    "            mask_dset[curr_shape:, :] = mask\n",
    "            "
   ]
  },
  {
   "cell_type": "code",
   "execution_count": 2,
   "metadata": {},
   "outputs": [],
   "source": [
    "dataset = get_train_dataset()"
   ]
  },
  {
   "cell_type": "code",
   "execution_count": null,
   "metadata": {},
   "outputs": [],
   "source": []
  }
 ],
 "metadata": {
  "kernelspec": {
   "display_name": "torch-geo",
   "language": "python",
   "name": "python3"
  },
  "language_info": {
   "codemirror_mode": {
    "name": "ipython",
    "version": 3
   },
   "file_extension": ".py",
   "mimetype": "text/x-python",
   "name": "python",
   "nbconvert_exporter": "python",
   "pygments_lexer": "ipython3",
   "version": "3.11.5"
  },
  "orig_nbformat": 4
 },
 "nbformat": 4,
 "nbformat_minor": 2
}
