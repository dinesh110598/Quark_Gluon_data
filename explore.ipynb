{
 "cells": [
  {
   "cell_type": "code",
   "execution_count": 1,
   "metadata": {},
   "outputs": [],
   "source": [
    "import numpy as np\n",
    "import h5py as h5\n",
    "import matplotlib.pyplot as plt\n",
    "\n",
    "import torch\n",
    "import torch_geometric\n",
    "import torch.nn as nn\n",
    "import torch.nn.functional as F\n",
    "from torch_geometric import nn as gnn\n",
    "\n",
    "from graph_vae import GraphVAE\n",
    "from train import train_loop2, loss_infer\n",
    "from data_load import *"
   ]
  },
  {
   "cell_type": "code",
   "execution_count": 2,
   "metadata": {},
   "outputs": [],
   "source": [
    "if torch.cuda.is_available():\n",
    "    device = torch.device(\"cuda:0\")\n",
    "else:\n",
    "    device = torch.device(\"cpu\")"
   ]
  },
  {
   "cell_type": "markdown",
   "metadata": {},
   "source": [
    "## Model Definition and training"
   ]
  },
  {
   "cell_type": "code",
   "execution_count": 3,
   "metadata": {},
   "outputs": [],
   "source": [
    "net = GraphVAE()"
   ]
  },
  {
   "cell_type": "code",
   "execution_count": 4,
   "metadata": {},
   "outputs": [
    {
     "name": "stdout",
     "output_type": "stream",
     "text": [
      "Epoch : 1 Loss: 6.10082 E mse: 3.67269 Hit mse: 310.73711\n",
      "Epoch : 2 Loss: 2.87906 E mse: 1.57034 Hit mse: 128.68141\n",
      "Epoch : 3 Loss: 2.45823 E mse: 1.56550 Hit mse: 105.71058\n",
      "Epoch : 4 Loss: 2.31766 E mse: 1.56429 Hit mse: 98.13492\n",
      "Epoch : 5 Loss: 2.23316 E mse: 1.56401 Hit mse: 93.42264\n",
      "Epoch : 6 Loss: 2.17152 E mse: 1.56399 Hit mse: 89.88619\n",
      "Epoch : 7 Loss: 2.12476 E mse: 1.56399 Hit mse: 87.15392\n",
      "Epoch : 8 Loss: 2.08657 E mse: 1.56396 Hit mse: 84.86333\n",
      "Epoch : 9 Loss: 2.05021 E mse: 1.56398 Hit mse: 82.62664\n",
      "Epoch : 10 Loss: 2.00816 E mse: 1.56398 Hit mse: 79.98664\n",
      "Epoch : 11 Loss: 1.96911 E mse: 1.56397 Hit mse: 77.52564\n",
      "Epoch : 12 Loss: 1.93356 E mse: 1.56396 Hit mse: 75.28540\n",
      "Epoch : 13 Loss: 1.89525 E mse: 1.56396 Hit mse: 72.86949\n",
      "Epoch : 14 Loss: 1.86149 E mse: 1.56397 Hit mse: 70.73759\n",
      "Epoch : 15 Loss: 1.83606 E mse: 1.56396 Hit mse: 69.12179\n",
      "Epoch : 16 Loss: 1.81277 E mse: 1.56396 Hit mse: 67.65224\n",
      "Epoch : 17 Loss: 1.79262 E mse: 1.56396 Hit mse: 66.37739\n",
      "Epoch : 18 Loss: 1.77182 E mse: 1.56396 Hit mse: 65.06416\n",
      "Epoch : 19 Loss: 1.75569 E mse: 1.56396 Hit mse: 64.04479\n",
      "Epoch : 20 Loss: 1.74068 E mse: 1.56396 Hit mse: 63.09260\n"
     ]
    }
   ],
   "source": [
    "train_loop2(net, 20, 64, 1e-3, device)"
   ]
  },
  {
   "cell_type": "code",
   "execution_count": 4,
   "metadata": {},
   "outputs": [],
   "source": [
    "torch.save(net.state_dict(), \"Saves/L_50k_norand.pth\")"
   ]
  },
  {
   "cell_type": "code",
   "execution_count": 4,
   "metadata": {},
   "outputs": [
    {
     "data": {
      "text/plain": [
       "tensor(0.0100)"
      ]
     },
     "execution_count": 4,
     "metadata": {},
     "output_type": "execute_result"
    }
   ],
   "source": []
  },
  {
   "cell_type": "markdown",
   "metadata": {},
   "source": [
    "## Inference and tests"
   ]
  },
  {
   "cell_type": "code",
   "execution_count": 2,
   "metadata": {},
   "outputs": [],
   "source": [
    "from data_load import get_train_dataset"
   ]
  },
  {
   "cell_type": "code",
   "execution_count": 6,
   "metadata": {},
   "outputs": [],
   "source": [
    "# def reconstruct_img(Y, counts):\n",
    "#     xhit, yhit = Y[:, :, 0], Y[:, :, 1]\n",
    "#     val = Y[:, :, 2]/50.\n",
    "    \n",
    "#     xhit = (xhit % 125).int()\n",
    "#     yhit = (yhit % 125).int()\n",
    "    \n",
    "#     ecal = torch.zeros((Y.shape[0], 125, 125))\n",
    "#     for j in range(Y.shape[0]):\n",
    "#         # Add fancy/optimized indexing later\n",
    "#         for i in range(counts[j]):\n",
    "#             ecal[j, xhit[j, i], yhit[j, i]] += 0.1*(i/counts[j])# val[j, i]\n",
    "    \n",
    "#     return ecal\n",
    "\n",
    "# def loss_infer2(net, x):\n",
    "#     \"\"\"\n",
    "#     Inference loss function\n",
    "#     \"\"\"\n",
    "#     # Graph nodes and edges\n",
    "#     X, A, mask, counts = preprocess(x)\n",
    "#     # Reconstructed nodes and edges\n",
    "#     Y, A2, mu, logvar, L1, L2 = net(X, A, mask)\n",
    "    \n",
    "#     # Convert back to image\n",
    "#     ecal = reconstruct_img(Y, counts)\n",
    "    \n",
    "#     mse = torch.nn.MSELoss()\n",
    "    \n",
    "#     return mse(X, Y), ecal, counts\n",
    "    "
   ]
  },
  {
   "cell_type": "code",
   "execution_count": 3,
   "metadata": {},
   "outputs": [],
   "source": [
    "def reconstruct_img2(Y, counts):\n",
    "    xhit, yhit = Y[:, :, 0], Y[:, :, 1]\n",
    "    val = Y[:, :, 2]/50.\n",
    "    \n",
    "    xhit = (xhit % 125).int()\n",
    "    yhit = (yhit % 125).int()\n",
    "    \n",
    "    ecal = torch.zeros((Y.shape[0], 125, 125))\n",
    "    for j in range(Y.shape[0]):\n",
    "        # Add fancy/optimized indexing later\n",
    "        for i in range(counts[j]):\n",
    "            ecal[j, xhit[j, i], yhit[j, i]] += val[j, i]\n",
    "    \n",
    "    return ecal\n",
    "\n",
    "def loss_infer2(net, X, A, mask):\n",
    "    \"\"\"\n",
    "    Inference loss function\n",
    "    \"\"\"\n",
    "    # Reconstructed nodes and edges\n",
    "    Y, A2, mu, logvar, L1, L2 = net(X, A, mask)\n",
    "    counts = torch.sum(mask, 1).int()\n",
    "    # Convert back to image\n",
    "    ecal = reconstruct_img2(Y, counts)\n",
    "    \n",
    "    mse = torch.nn.MSELoss()\n",
    "    \n",
    "    return mse(X, Y), ecal, A2"
   ]
  },
  {
   "cell_type": "code",
   "execution_count": 4,
   "metadata": {},
   "outputs": [
    {
     "data": {
      "text/plain": [
       "<All keys matched successfully>"
      ]
     },
     "execution_count": 4,
     "metadata": {},
     "output_type": "execute_result"
    }
   ],
   "source": [
    "net = GraphVAE()\n",
    "net.load_state_dict(torch.load(\"Saves/Checkpoints/ep_20.pth\"))"
   ]
  },
  {
   "cell_type": "code",
   "execution_count": 5,
   "metadata": {},
   "outputs": [],
   "source": [
    "dataset = Train_Dataset(64)\n",
    "data_loader = torch.utils.data.DataLoader(dataset)"
   ]
  },
  {
   "cell_type": "code",
   "execution_count": 6,
   "metadata": {},
   "outputs": [
    {
     "name": "stdout",
     "output_type": "stream",
     "text": [
      "tensor(-11.7747)\n",
      "tensor(-2.3988)\n",
      "tensor(-2.3988)\n",
      "tensor(-11.7747)\n"
     ]
    }
   ],
   "source": [
    "for (X, A, mask) in data_loader:\n",
    "    X = X[0]\n",
    "    A = A[0]\n",
    "    mask = mask[0]\n",
    "    counts = torch.sum(mask, 1).int()\n",
    "    with torch.no_grad():\n",
    "        img1 = reconstruct_img2(X, counts)\n",
    "        L, img2, A2 = loss_infer2(net, X, A, mask)\n",
    "    break"
   ]
  },
  {
   "cell_type": "code",
   "execution_count": 8,
   "metadata": {},
   "outputs": [
    {
     "data": {
      "text/plain": [
       "(tensor([[6., 6., 6.,  ..., 0., 0., 0.],\n",
       "         [6., 6., 6.,  ..., 0., 0., 0.],\n",
       "         [6., 6., 6.,  ..., 0., 0., 0.],\n",
       "         ...,\n",
       "         [6., 6., 6.,  ..., 0., 0., 0.],\n",
       "         [6., 6., 6.,  ..., 0., 0., 0.],\n",
       "         [6., 6., 6.,  ..., 0., 0., 0.]]),\n",
       " tensor([[927.2907, 934.0000, 901.3362,  ...,  32.0000,  37.0000,  55.0000],\n",
       "         [549.0000, 546.0000, 550.0135,  ..., 107.0000, 453.0000,  72.0000],\n",
       "         [757.0000, 756.0000, 751.0000,  ...,  98.0000, 161.0000, 109.0000],\n",
       "         ...,\n",
       "         [703.0000, 705.0000, 705.0000,  ...,  57.0000, 230.0000, 136.0000],\n",
       "         [847.0627, 879.0000, 562.1369,  ..., 106.0000, 114.0000, 114.0000],\n",
       "         [713.0000, 711.0000, 704.0000,  ...,  82.0000,  89.0000, 181.0000]]))"
      ]
     },
     "execution_count": 8,
     "metadata": {},
     "output_type": "execute_result"
    }
   ],
   "source": [
    "A.sum(1), A2.sum(1)"
   ]
  },
  {
   "cell_type": "code",
   "execution_count": 22,
   "metadata": {},
   "outputs": [
    {
     "data": {
      "text/plain": [
       "tensor(0.)"
      ]
     },
     "execution_count": 22,
     "metadata": {},
     "output_type": "execute_result"
    }
   ],
   "source": [
    "img2.max()"
   ]
  },
  {
   "cell_type": "code",
   "execution_count": 21,
   "metadata": {},
   "outputs": [
    {
     "data": {
      "image/png": "[encoded data removed]",
      "text/plain": [
       "<Figure size 640x480 with 2 Axes>"
      ]
     },
     "metadata": {},
     "output_type": "display_data"
    }
   ],
   "source": [
    "fig, ax = plt.subplots(1, 2)\n",
    "ax[0].imshow(img1[3]*(256))\n",
    "ax[1].imshow(img2[3]*(256))\n",
    "plt.show()"
   ]
  },
  {
   "cell_type": "markdown",
   "metadata": {},
   "source": [
    "## Graph dataset"
   ]
  },
  {
   "cell_type": "code",
   "execution_count": 25,
   "metadata": {},
   "outputs": [
    {
     "name": "stdout",
     "output_type": "stream",
     "text": [
      "(139306, 125, 125, 3)\n"
     ]
    }
   ],
   "source": [
    "f = h5.File(\"quark-gluon_data-set_n139306.hdf5\")\n",
    "print(f['X_jets'].shape)\n",
    "f.close()"
   ]
  },
  {
   "cell_type": "code",
   "execution_count": 3,
   "metadata": {},
   "outputs": [],
   "source": [
    "from data_load import preprocess"
   ]
  },
  {
   "cell_type": "code",
   "execution_count": 4,
   "metadata": {},
   "outputs": [
    {
     "name": "stdout",
     "output_type": "stream",
     "text": [
      "50000\n"
     ]
    }
   ],
   "source": [
    "with h5.File('quark_jets_ecal.h5', 'w') as g:\n",
    "    f = h5.File('quark-gluon_data-set_n139306.hdf5', 'r')\n",
    "    \n",
    "    dset = g.create_dataset('x', shape=(0, 125, 125, 3), dtype=np.float32,\n",
    "                            maxshape=(None, 125, 125, 3))\n",
    "    L = 100_000\n",
    "    w = 10_000\n",
    "\n",
    "    for i in range(10):\n",
    "        x, y = f['X_jets'][i*w: (i+1)*w], f['y'][i*w: (i+1)*w]\n",
    "        x, y = torch.from_numpy(x), torch.from_numpy(y)\n",
    "        (ind_0,) = torch.nonzero(y==0, as_tuple=True)\n",
    "        x = x[ind_0]\n",
    "        curr_shape = dset.shape[0]\n",
    "        dset.resize((curr_shape+x.shape[0], 125, 125, 3))\n",
    "        dset[curr_shape:, :, :] = x\n",
    "    print(dset.shape[0])\n",
    "    f.close()"
   ]
  },
  {
   "cell_type": "code",
   "execution_count": 2,
   "metadata": {},
   "outputs": [],
   "source": [
    "with h5.File('quark_jets_ecal.h5') as g:\n",
    "    with h5.File('quark_3chan_graph.h5', 'w') as h:\n",
    "        X_dset = h.create_dataset('X', shape=(0, 1000, 4), dtype=np.float32,\n",
    "                            maxshape=(None, 1000, 4))\n",
    "        A_dset = h.create_dataset('A', shape=(0, 1000, 1000), dtype=np.float32,\n",
    "                            maxshape=(None, 1000, 1000))\n",
    "        mask_dset = h.create_dataset('mask', shape=(0, 1000), dtype=np.float32,\n",
    "                            maxshape=(None, 1000))\n",
    "        \n",
    "        device = torch.device(\"cpu\")\n",
    "        w = 2000\n",
    "        for i in range(25):\n",
    "            x = g['x'][i*w: (i+1)*w]\n",
    "            x = torch.from_numpy(x).to(device)\n",
    "            X, A, mask, _ = preprocess(x, device)\n",
    "            \n",
    "            curr_shape = X_dset.shape[0]\n",
    "                \n",
    "            X_dset.resize((curr_shape+w, 1000, 4))\n",
    "            A_dset.resize((curr_shape+w, 1000, 1000))\n",
    "            mask_dset.resize((curr_shape+w, 1000))\n",
    "            \n",
    "            X_dset[curr_shape:, :, :] = X.to(\"cpu\").numpy()\n",
    "            A_dset[curr_shape:, :, :] = A.to(\"cpu\").numpy()\n",
    "            mask_dset[curr_shape:, :] = mask.to(\"cpu\").numpy()"
   ]
  },
  {
   "cell_type": "code",
   "execution_count": 3,
   "metadata": {},
   "outputs": [
    {
     "name": "stdout",
     "output_type": "stream",
     "text": [
      "(50000, 300, 3)\n",
      "(50000, 300, 300)\n",
      "(50000, 300)\n"
     ]
    }
   ],
   "source": [
    "with h5.File('quark_ecal_graph.h5') as h:\n",
    "    print(h['X'].shape)\n",
    "    print(h['A'].shape)\n",
    "    print(h['mask'].shape)"
   ]
  },
  {
   "cell_type": "code",
   "execution_count": null,
   "metadata": {},
   "outputs": [],
   "source": []
  }
 ],
 "metadata": {
  "kernelspec": {
   "display_name": "torch-geo",
   "language": "python",
   "name": "python3"
  },
  "language_info": {
   "codemirror_mode": {
    "name": "ipython",
    "version": 3
   },
   "file_extension": ".py",
   "mimetype": "text/x-python",
   "name": "python",
   "nbconvert_exporter": "python",
   "pygments_lexer": "ipython3",
   "version": "3.11.5"
  },
  "orig_nbformat": 4
 },
 "nbformat": 4,
 "nbformat_minor": 2
}
